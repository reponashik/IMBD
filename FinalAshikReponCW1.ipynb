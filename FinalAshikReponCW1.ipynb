{
 "cells": [
  {
   "cell_type": "markdown",
   "metadata": {
    "id": "drFOkiM5RQ2X"
   },
   "source": [
    "Ashik Repon - BSc Computer Science - Artificial Intelligence Coursework 1 2020-2021 "
   ]
  },
  {
   "cell_type": "markdown",
   "metadata": {
    "id": "4vcZ7H4VoG-N"
   },
   "source": [
    "<h3> Overview of the structure of the report <h3>"
   ]
  },
  {
   "cell_type": "markdown",
   "metadata": {
    "id": "7jw6zq6roRpM"
   },
   "source": [
    "This report follows the **Deep Learning Worflow** throughout. \n",
    "\n",
    "This report does not follow a chronological order of events, it follows a rigid structure.\n",
    "\n",
    "Numerical values obtained in the graphs from the **Main Experiments** section can be cross-referenced with the penultimate section - **Experimentation and Results Log**. \n",
    "\n",
    "The final section is the **Conclusion** section, which includes some sub-sections for individual reflection and findings about experiments, as well as a final conclusion. "
   ]
  },
  {
   "cell_type": "markdown",
   "metadata": {
    "id": "86dlLDvfQlao"
   },
   "source": [
    "<h1> Problem Definition </h1>"
   ]
  },
  {
   "cell_type": "markdown",
   "metadata": {
    "id": "cJ-25HLVRj5p"
   },
   "source": [
    "Hypothesis: \n",
    "\n",
    "An attempt to predict the nature of the review of movies from a large dataset of movie reviews, with the primary objective of concluding whether a review is classified as positive or negative.\n",
    "\n",
    "The **IMDB dataset** is a common Machine Learning application. This dataset consists of 50000 highly polarised moview reviews labelled either positive or negative\n",
    "\n",
    "25000 training data, 25000 testing data. \n",
    "\n",
    "Each set has 50% positive reviews and 50% negative reviews.\n",
    "\n",
    "This data is sufficiently informative to learn relationships between inputs and outputs\n",
    "\n",
    "The type of this problem is a **binary classification** problem as the outcome will predict between two distinct classes (positive or negative)\n",
    "\n",
    "In this problem, 1 represents a positive review label and 0 represent a negative review label.\n",
    "\n",
    "The input for this problem will be moview review text in the form of tensors - the preprocessing of the input sample will be visited in more detail in the **data preparation** section. The output is a probability score predicting whether the review is negative or positive.\n",
    "\n",
    "\n",
    "\n"
   ]
  },
  {
   "cell_type": "markdown",
   "metadata": {
    "id": "9iir26pvQl7v"
   },
   "source": [
    "# Measure of accuracy \n"
   ]
  },
  {
   "cell_type": "markdown",
   "metadata": {
    "id": "8jYFdG_hmJi5"
   },
   "source": [
    "According to Francois Chollet (2017. Deep Learning with Python (1st. ed.). Manning Publications Co., USA. ), for a binary classification problem like the IMDB problem, the best measure of success, or **loss function** choice is **binary cross entropy** combined with **sigmoid** as the last layer of activation. This is because, unlike using **softmax**, using this combination guarantees that calculating the difference between two probability distributions is efficient and independent for each of the two classes in question and is more appropriate for a binary classification problem.\n"
   ]
  },
  {
   "cell_type": "markdown",
   "metadata": {
    "id": "0ZYukUZ8Q3OR"
   },
   "source": [
    "# Evaluation protocol"
   ]
  },
  {
   "cell_type": "markdown",
   "metadata": {
    "id": "3hRBfZPJtY1l"
   },
   "source": [
    "During the experimentations, the primary intention is to maintain **hold-out validation** as numerically speaking, there is a lot of data to execute validation on. Depending on the results, other validations such as k-fold might be considered depending on the validation result. Hold-out validation should be suitable for this type of problem."
   ]
  },
  {
   "cell_type": "markdown",
   "metadata": {
    "id": "W4UiPhMhQ8Cl"
   },
   "source": [
    "# Data preparation"
   ]
  },
  {
   "cell_type": "code",
   "execution_count": 2,
   "metadata": {
    "colab": {
     "base_uri": "https://localhost:8080/",
     "height": 0
    },
    "id": "YTaBHBrZvZlw",
    "outputId": "b728fce9-90c3-416a-c3e2-b04880e47018"
   },
   "outputs": [
    {
     "name": "stdout",
     "output_type": "stream",
     "text": [
      "2.3.0   2.4.0\n"
     ]
    }
   ],
   "source": [
    "import tensorflow as tf\n",
    "from tensorflow import keras\n",
    "print(tf.__version__, ' ', tf.keras.__version__)\n",
    "#importing tensorflow and keras, and printing versions"
   ]
  },
  {
   "cell_type": "markdown",
   "metadata": {
    "id": "j9IHYa8uvi-8"
   },
   "source": [
    "Loading IMDB dataset"
   ]
  },
  {
   "cell_type": "code",
   "execution_count": 4,
   "metadata": {
    "colab": {
     "base_uri": "https://localhost:8080/",
     "height": 0
    },
    "id": "9I_OLZg2vhCj",
    "outputId": "2df11876-1fb0-4794-a81c-146899b6a680"
   },
   "outputs": [
    {
     "name": "stdout",
     "output_type": "stream",
     "text": [
      "Downloading data from https://storage.googleapis.com/tensorflow/tf-keras-datasets/imdb.npz\n",
      "17465344/17464789 [==============================] - 0s 0us/step\n"
     ]
    }
   ],
   "source": [
    "# download data: top 10000 most frequent words only, discard rare words\n",
    "from tensorflow.keras.datasets import imdb\n",
    "\n",
    "((train_data, train_labels), (test_data, test_labels)) = imdb.load_data(num_words = 10000)"
   ]
  },
  {
   "cell_type": "markdown",
   "metadata": {
    "id": "qbLrypGHvO9w"
   },
   "source": [
    "The limitation to 10,000 words is excluding rare or uncommon words to make the problem more manageable. "
   ]
  },
  {
   "cell_type": "markdown",
   "metadata": {
    "id": "ZDDiqO1CwNk6"
   },
   "source": [
    "<h3> Practical preparation of data </h3>"
   ]
  },
  {
   "cell_type": "markdown",
   "metadata": {
    "id": "THp-nxcHxoja"
   },
   "source": [
    "Data will have to be pre-processed into a form that the network understands. For a binary classification problem like the IMDB, it is necessary to scale the values in a reduced range such as [0,1]"
   ]
  },
  {
   "cell_type": "code",
   "execution_count": 5,
   "metadata": {
    "id": "Bsyj8RllwZUi"
   },
   "outputs": [],
   "source": [
    "#Networks only accept tensor inputs, not lists\n",
    "#Hence we need to pre-process data \n",
    "\n",
    "import numpy as np #importing mathematics library\n",
    "\n",
    "#Function to vectorise sample into tensors in the form of vectors\n",
    "def vectorize_sequences(sequences, dimension = 10000):\n",
    "    results = np.zeros( (len(sequences), dimension) )\n",
    "    for i, sequence in enumerate(sequences):\n",
    "        results[i, sequence] = 1. #sets specific indices of results[i] to 1\n",
    "    return results\n",
    "\n",
    "x_train = vectorize_sequences(train_data)\n",
    "x_test = vectorize_sequences(test_data)\n",
    "\n",
    "#One-hot encode samples and convert the labels to floating point valued tensors.\n",
    "y_train = np.asarray(train_labels).astype('float32') #Vectorise training data\n",
    "y_test = np.asarray(test_labels).astype('float32') #Vectorise test data\n",
    "\n",
    "#Considerations made for validating data\n",
    "x_val = x_train[:10000]\n",
    "partial_x_train = x_train[10000:]\n",
    "y_val = y_train[:10000]\n",
    "partial_y_train = y_train[10000:] "
   ]
  },
  {
   "cell_type": "markdown",
   "metadata": {
    "id": "HF-Y1ZTlx7DO"
   },
   "source": [
    "The block of code above is responsible for encording the integer sequences provided by the data into a binary matrix that our network can understand. It is essential to provide the network a sample in a recognisable format to enable it to deduct useful representations when training occurs. Refer to the comments inside the block of code for more technical considerations.\n",
    "\n",
    "The last 4 lines is responsible for slicing the data apart for validation, by setting apart 10000 samples from the original training data into validation data set and partial training set."
   ]
  },
  {
   "cell_type": "markdown",
   "metadata": {
    "id": "dBuZ-yOQRDZI"
   },
   "source": [
    "# Baseline"
   ]
  },
  {
   "cell_type": "markdown",
   "metadata": {
    "id": "ES9bOmfo0dYb"
   },
   "source": [
    "The minimum **statistical power** expectation for a binary classification problem such as the IMDB moview reviews problem must perform better than 50% accuracy."
   ]
  },
  {
   "cell_type": "markdown",
   "metadata": {
    "id": "GNUvTdyG0ye4"
   },
   "source": [
    "# Network building"
   ]
  },
  {
   "cell_type": "markdown",
   "metadata": {
    "id": "2HHtOllQ1SyO"
   },
   "source": [
    "In this section, the main model for training will be defined. In the last section of this report all experiments will be logged. "
   ]
  },
  {
   "cell_type": "markdown",
   "metadata": {
    "id": "jysycvZizOer"
   },
   "source": [
    "In all of the densely connected layers apart from the last one, the activation function used to execute linear affine transformations on the sample is **Relu**. The last layer is always **sigomoid** which produces the probability of matching likeliness."
   ]
  },
  {
   "cell_type": "markdown",
   "metadata": {
    "id": "L6CtOSZ10z_r"
   },
   "source": [
    "The code below has served the purpose of drawing the results and plots available from the \"Main Experiments\" section. "
   ]
  },
  {
   "cell_type": "code",
   "execution_count": null,
   "metadata": {
    "id": "YwtCsXvi05VT"
   },
   "outputs": [],
   "source": [
    "from tensorflow.keras import models\n",
    "from tensorflow.keras import layers\n",
    "from tensorflow.keras import regularizers\n",
    "from tensorflow.keras import optimizers, losses\n",
    "#Ideal model for the reduction of overfitting and high accuracy: 16-16-1\n",
    "model = models.Sequential()\n",
    "model.add(layers.Dense(512, \n",
    "                       kernel_regularizer=regularizers.l2(0.001),\n",
    "                       activation = 'relu', \n",
    "                       input_shape = (10000,)\n",
    "                       ))\n",
    "model.add(layers.Dropout(0.5))\n",
    "model.add(layers.Dense(512, \n",
    "                       activation = 'relu',\n",
    "                       kernel_regularizer=regularizers.l2(0.001)\n",
    "                       ))\n",
    "\n",
    "model.add(layers.Dense(1, activation = 'sigmoid'))\n",
    "\n",
    "model.compile(optimizer=optimizers.RMSprop(lr=0.001),\n",
    "             loss = losses.binary_crossentropy,\n",
    "             metrics=['accuracy'])\n",
    "\n",
    "history = model.fit(partial_x_train, \n",
    "                    partial_y_train,\n",
    "                    epochs = 20,\n",
    "                    batch_size = 1024,\n",
    "                    validation_data = (x_val, y_val)) \n"
   ]
  },
  {
   "cell_type": "code",
   "execution_count": null,
   "metadata": {
    "colab": {
     "base_uri": "https://localhost:8080/"
    },
    "id": "upfW7_l3KjSk",
    "outputId": "419d0cc2-f9e3-4616-9033-17968f41e0ae"
   },
   "outputs": [
    {
     "data": {
      "text/plain": [
       "dict_keys(['loss', 'accuracy', 'val_loss', 'val_accuracy'])"
      ]
     },
     "execution_count": 88,
     "metadata": {
      "tags": []
     },
     "output_type": "execute_result"
    }
   ],
   "source": [
    "history_dict = history.history\n",
    "history_dict.keys()"
   ]
  },
  {
   "cell_type": "code",
   "execution_count": 11,
   "metadata": {
    "colab": {
     "base_uri": "https://localhost:8080/",
     "height": 0
    },
    "id": "km-HFV_evqGK",
    "outputId": "d6d9fb94-0564-400e-e579-82538864f86f"
   },
   "outputs": [
    {
     "name": "stdout",
     "output_type": "stream",
     "text": [
      "Model: \"sequential_2\"\n",
      "_________________________________________________________________\n",
      "Layer (type)                 Output Shape              Param #   \n",
      "=================================================================\n",
      "dense_6 (Dense)              (None, 512)               5120512   \n",
      "_________________________________________________________________\n",
      "dropout_2 (Dropout)          (None, 512)               0         \n",
      "_________________________________________________________________\n",
      "dense_7 (Dense)              (None, 512)               262656    \n",
      "_________________________________________________________________\n",
      "dense_8 (Dense)              (None, 1)                 513       \n",
      "=================================================================\n",
      "Total params: 5,383,681\n",
      "Trainable params: 5,383,681\n",
      "Non-trainable params: 0\n",
      "_________________________________________________________________\n"
     ]
    }
   ],
   "source": [
    "model.summary()"
   ]
  },
  {
   "cell_type": "code",
   "execution_count": 7,
   "metadata": {
    "id": "p9OoBiF2_JSe"
   },
   "outputs": [],
   "source": [
    "#Function designed to plot values for comparision \n",
    "#plot loss will plot the loss of the validation data and the loss of the training data against epochs number\n",
    "import matplotlib.pyplot as plt \n",
    "def plot_loss():\n",
    "    history_dict = history.history\n",
    "    loss = history_dict['loss']\n",
    "    val_loss = history_dict['val_loss']\n",
    "    epochs = range(1, len(loss) + 1)\n",
    "    blue_dots = 'bo'\n",
    "    solid_blue_line = 'b'\n",
    "    plt.plot(epochs, loss, blue_dots, label = 'Training loss')\n",
    "    plt.plot(epochs, val_loss, solid_blue_line, label = 'Validation loss')\n",
    "    plt.title('Training and validation loss')\n",
    "    plt.xlabel('Epochs')\n",
    "    plt.ylabel('Loss')\n",
    "    plt.legend()\n",
    "    #plt.savefig('overfitting.eps', format = 'eps')\n",
    "    plt.show()\n",
    "#plot loss will plot the accuracy of the validation data and the loss of the training data against epochs number\n",
    "def plot_acc():\n",
    "    \n",
    "    plt.clf()\n",
    "\n",
    "    acc = history_dict['accuracy']\n",
    "    val_acc = history_dict['val_accuracy']\n",
    "    \n",
    "    epochs = range(1, len(acc) + 1)\n",
    "    \n",
    "    plt.plot(epochs, acc, 'bo', label = 'Training acc')\n",
    "    plt.plot(epochs, val_acc, 'b', label = 'Validation acc')\n",
    "    plt.title('Training and validation acc')\n",
    "    plt.xlabel('Epochs')\n",
    "    plt.ylabel('Accuracy')\n",
    "    plt.legend()\n",
    "\n",
    "    plt.show()\n",
    "\n",
    "\n"
   ]
  },
  {
   "cell_type": "markdown",
   "metadata": {
    "id": "TAT2ZSwb0uwB"
   },
   "source": [
    "# Main experiments"
   ]
  },
  {
   "cell_type": "markdown",
   "metadata": {
    "id": "RefLGd02UQr5"
   },
   "source": [
    "<h3> Network Capacity: 2-2-1 </h3>"
   ]
  },
  {
   "cell_type": "code",
   "execution_count": null,
   "metadata": {
    "colab": {
     "base_uri": "https://localhost:8080/",
     "height": 294
    },
    "id": "MkPluzTmjYoS",
    "outputId": "b4f3da2a-c095-4429-b8f6-8c43e9d6ffb5"
   },
   "outputs": [
    {
     "data": {
      "image/png": "[encoded data removed]",
      "text/plain": [
       "<Figure size 432x288 with 1 Axes>"
      ]
     },
     "metadata": {
      "needs_background": "light",
      "tags": []
     },
     "output_type": "display_data"
    }
   ],
   "source": [
    "#plot_loss()"
   ]
  },
  {
   "cell_type": "markdown",
   "metadata": {
    "id": "vdCpGuWQmN3c"
   },
   "source": [
    "The plot above is showing a trend in which training loss and validation loss are both lowering epoch by epoch. This is a sign of **underfitting**. Justifications to why this phenomena is occurring is very like due to the fact that the network capacity was very reduced (**2-2-1**)"
   ]
  },
  {
   "cell_type": "code",
   "execution_count": null,
   "metadata": {
    "colab": {
     "base_uri": "https://localhost:8080/",
     "height": 294
    },
    "id": "N0tQ4Vlnm4h0",
    "outputId": "71bd1b0c-037c-44e4-d87d-d4b055f71c61"
   },
   "outputs": [
    {
     "data": {
      "image/png": "[encoded data removed]",
      "text/plain": [
       "<Figure size 432x288 with 1 Axes>"
      ]
     },
     "metadata": {
      "needs_background": "light",
      "tags": []
     },
     "output_type": "display_data"
    }
   ],
   "source": [
    "#plot_acc()"
   ]
  },
  {
   "cell_type": "markdown",
   "metadata": {
    "id": "-YucYECToB--"
   },
   "source": [
    "The accuracy seems to increase at a very fast pace. There is an outlier in the graph with a very low accuracy which increments at a very fast pace. The validation accuracy is following a decreasing trend for the 2-2-1 network capacity."
   ]
  },
  {
   "cell_type": "code",
   "execution_count": null,
   "metadata": {
    "colab": {
     "base_uri": "https://localhost:8080/"
    },
    "id": "hp_B1NhOtDDY",
    "outputId": "73c1b466-3473-40c5-d6c8-b43c713412cd"
   },
   "outputs": [
    {
     "data": {
      "text/plain": [
       "dict_keys(['loss', 'accuracy', 'val_loss', 'val_accuracy'])"
      ]
     },
     "execution_count": 117,
     "metadata": {
      "tags": []
     },
     "output_type": "execute_result"
    }
   ],
   "source": [
    "history_dict = history.history\n",
    "history_dict.keys()"
   ]
  },
  {
   "cell_type": "markdown",
   "metadata": {
    "id": "bfHTC2gHUIyd"
   },
   "source": [
    "<h3> Network capacity: 16-16-1 </h3>"
   ]
  },
  {
   "cell_type": "code",
   "execution_count": null,
   "metadata": {
    "colab": {
     "base_uri": "https://localhost:8080/",
     "height": 294
    },
    "id": "anthr2rd03-0",
    "outputId": "bc92c422-a2e2-458f-c60e-00aef50ce371"
   },
   "outputs": [
    {
     "data": {
      "image/png": "[encoded data removed]",
      "text/plain": [
       "<Figure size 432x288 with 1 Axes>"
      ]
     },
     "metadata": {
      "needs_background": "light",
      "tags": []
     },
     "output_type": "display_data"
    }
   ],
   "source": [
    "#plot_loss()"
   ]
  },
  {
   "cell_type": "markdown",
   "metadata": {
    "id": "u2hSd0nQ5IAK"
   },
   "source": [
    "The network capacity for this experiment is 16-16-1. **Overfitting** is occurring in the graph above. Around epoch 5 the graph starts to increase at a steady speed. There is a spike around epoch 15. The validation loss keeps on continously increasing. The training loss gradually decreases."
   ]
  },
  {
   "cell_type": "code",
   "execution_count": null,
   "metadata": {
    "colab": {
     "base_uri": "https://localhost:8080/",
     "height": 294
    },
    "id": "P4-DqEy24pod",
    "outputId": "6af0bb0d-4dea-417f-9784-01e3d3c50e69"
   },
   "outputs": [
    {
     "data": {
      "image/png": "[encoded data removed]",
      "text/plain": [
       "<Figure size 432x288 with 1 Axes>"
      ]
     },
     "metadata": {
      "needs_background": "light",
      "tags": []
     },
     "output_type": "display_data"
    }
   ],
   "source": [
    "#plot_acc()"
   ]
  },
  {
   "cell_type": "markdown",
   "metadata": {
    "id": "zUBlutTX4wcj"
   },
   "source": [
    "The validation accuracy is higher compared to the previous model. There are some spikes in the trend between the 2nd and 10th epoch. The accuracy stabilizes around 0.85 accuracy around 12 epochs. (Network capacity 16-16-1)"
   ]
  },
  {
   "cell_type": "markdown",
   "metadata": {
    "id": "quUpiBAh85Qb"
   },
   "source": [
    "<h3> Network capacity: 512-512-1 </h3>"
   ]
  },
  {
   "cell_type": "code",
   "execution_count": null,
   "metadata": {
    "colab": {
     "base_uri": "https://localhost:8080/",
     "height": 294
    },
    "id": "STRjD1QU9Ncn",
    "outputId": "2d54850d-072f-4d45-a620-73ab12216891"
   },
   "outputs": [
    {
     "data": {
      "image/png": "[encoded data removed]",
      "text/plain": [
       "<Figure size 432x288 with 1 Axes>"
      ]
     },
     "metadata": {
      "needs_background": "light",
      "tags": []
     },
     "output_type": "display_data"
    }
   ],
   "source": [
    "#plot_loss()"
   ]
  },
  {
   "cell_type": "markdown",
   "metadata": {
    "id": "F1NZChih9rpX"
   },
   "source": [
    "The overfitting for the 512-512-1 capacity network is greater compared to all the other networks. It also toke the longest time in terms of training duration. We can deduct from this model and previous models that the **optimum training number revolves around 5**. Overfitting occurs very quickly in this model after epoch 5."
   ]
  },
  {
   "cell_type": "code",
   "execution_count": null,
   "metadata": {
    "colab": {
     "base_uri": "https://localhost:8080/"
    },
    "id": "gM09hhF6EqFO",
    "outputId": "1e38fac7-3d8f-4219-ee60-3b88f37fb08c"
   },
   "outputs": [
    {
     "data": {
      "text/plain": [
       "dict_keys(['loss', 'accuracy', 'val_loss', 'val_accuracy'])"
      ]
     },
     "execution_count": 128,
     "metadata": {
      "tags": []
     },
     "output_type": "execute_result"
    }
   ],
   "source": [
    "history_dict = history.history\n",
    "history_dict.keys()"
   ]
  },
  {
   "cell_type": "code",
   "execution_count": null,
   "metadata": {
    "colab": {
     "base_uri": "https://localhost:8080/",
     "height": 294
    },
    "id": "OEcBSlgeErVD",
    "outputId": "d4aee1e0-475a-4abe-8d95-d7db322896b5"
   },
   "outputs": [
    {
     "data": {
      "image/png": "[encoded data removed]",
      "text/plain": [
       "<Figure size 432x288 with 1 Axes>"
      ]
     },
     "metadata": {
      "needs_background": "light",
      "tags": []
     },
     "output_type": "display_data"
    }
   ],
   "source": [
    "#plot_acc()"
   ]
  },
  {
   "cell_type": "markdown",
   "metadata": {
    "id": "IJkTrUNwE8aY"
   },
   "source": [
    "The accuracy of the validation set stabilizes around 0.88/0.89 (**this data can be cross-referenced with the experiments table**) and stays constant for the rest of the epochs. The accuracy of the training data increases to optimal values. "
   ]
  },
  {
   "cell_type": "markdown",
   "metadata": {
    "id": "IaKFSt67DKeQ"
   },
   "source": [
    "Deductions so far \n",
    "- Optimal training is around **5 epoch** \n",
    "- The 16-16-1 outputs the highest validation accuracy with **slower overfitting** compared to the other 2 models.\n",
    "- We have developed a model with an accuracy greater than baseline of 0.5"
   ]
  },
  {
   "cell_type": "markdown",
   "metadata": {
    "id": "X4686LGWT81H"
   },
   "source": [
    "<h3> Hyperparameter tuning: Batch Size </h3>"
   ]
  },
  {
   "cell_type": "markdown",
   "metadata": {
    "id": "6X-OOiKmGQia"
   },
   "source": [
    "Further hyperparameters experimenting: the extent to which the batch size has an effect on the best model so far in terms of validation accuracy and least overfitting will be tested. The reference model for these experimentationwill be a 16-16-1 capacity network with batch sizes 256 and 1024."
   ]
  },
  {
   "cell_type": "code",
   "execution_count": null,
   "metadata": {
    "colab": {
     "base_uri": "https://localhost:8080/",
     "height": 294
    },
    "id": "UyyHXTuUHbVa",
    "outputId": "a81844a3-7900-4e07-bf0e-6547a10153a5"
   },
   "outputs": [
    {
     "data": {
      "image/png": "[encoded data removed]",
      "text/plain": [
       "<Figure size 432x288 with 1 Axes>"
      ]
     },
     "metadata": {
      "needs_background": "light",
      "tags": []
     },
     "output_type": "display_data"
    }
   ],
   "source": [
    "#BATCH SIZE 256\n",
    "#plot_loss()"
   ]
  },
  {
   "cell_type": "markdown",
   "metadata": {
    "id": "ve6rucN6Hh-1"
   },
   "source": [
    "Highest validation accuracy recorded so far at epoch 2 with batch size 256: (0.8918). Overfitting still present after epoch 2. "
   ]
  },
  {
   "cell_type": "markdown",
   "metadata": {
    "id": "PomUq7CWJGeI"
   },
   "source": [
    "Experimenting with batch size: 1024"
   ]
  },
  {
   "cell_type": "code",
   "execution_count": null,
   "metadata": {
    "colab": {
     "base_uri": "https://localhost:8080/"
    },
    "id": "9kSXO65cMMpj",
    "outputId": "b7fcd278-2944-4f79-b3ea-ac377364848b"
   },
   "outputs": [
    {
     "data": {
      "text/plain": [
       "dict_keys(['loss', 'accuracy', 'val_loss', 'val_accuracy'])"
      ]
     },
     "execution_count": 138,
     "metadata": {
      "tags": []
     },
     "output_type": "execute_result"
    }
   ],
   "source": [
    "history_dict = history.history\n",
    "history_dict.keys()\n",
    "#UPDATE HISTORY"
   ]
  },
  {
   "cell_type": "code",
   "execution_count": null,
   "metadata": {
    "colab": {
     "base_uri": "https://localhost:8080/",
     "height": 294
    },
    "id": "wkGZHq0SJQKB",
    "outputId": "b508f65c-d0d6-4ce3-a866-be76d482ac2a"
   },
   "outputs": [
    {
     "data": {
      "image/png": "[encoded data removed]",
      "text/plain": [
       "<Figure size 432x288 with 1 Axes>"
      ]
     },
     "metadata": {
      "needs_background": "light",
      "tags": []
     },
     "output_type": "display_data"
    }
   ],
   "source": [
    "#BATCH SIZE 1024\n",
    "#plot_loss()"
   ]
  },
  {
   "cell_type": "markdown",
   "metadata": {
    "id": "GDwopDVCMddK"
   },
   "source": [
    "With batch size 1024, overfitting is less prominent compared to previous experimentations. Batch = 1024 will be taken in consideration in regularisation attempts in upcoming sections. Experimenting with 1024 as batch size slightly decreased overfitting compared to previous batch size."
   ]
  },
  {
   "cell_type": "markdown",
   "metadata": {
    "id": "CLXPZUk_Tw0d"
   },
   "source": [
    "<h3> Hyperparameter tuning: number of epochs </h3>"
   ]
  },
  {
   "cell_type": "markdown",
   "metadata": {
    "id": "KhqVb6o9Mu4V"
   },
   "source": [
    "Next hyperparameter tuning, number of epochs. This section will explore the extent to which the number of epochs affects the validation accuracy of the training set."
   ]
  },
  {
   "cell_type": "code",
   "execution_count": null,
   "metadata": {
    "colab": {
     "base_uri": "https://localhost:8080/",
     "height": 294
    },
    "id": "G9qsTd5-MBR1",
    "outputId": "63a0e556-5ddd-4a67-947e-be3f9fbbfc4d"
   },
   "outputs": [
    {
     "data": {
      "image/png": "[encoded data removed]",
      "text/plain": [
       "<Figure size 432x288 with 1 Axes>"
      ]
     },
     "metadata": {
      "needs_background": "light",
      "tags": []
     },
     "output_type": "display_data"
    }
   ],
   "source": [
    " #plot_loss()"
   ]
  },
  {
   "cell_type": "code",
   "execution_count": null,
   "metadata": {
    "colab": {
     "base_uri": "https://localhost:8080/"
    },
    "id": "XYQK5xirOTBw",
    "outputId": "c35287a9-028b-4a01-b016-49e87ee3e205"
   },
   "outputs": [
    {
     "data": {
      "text/plain": [
       "dict_keys(['loss', 'accuracy', 'val_loss', 'val_accuracy'])"
      ]
     },
     "execution_count": 143,
     "metadata": {
      "tags": []
     },
     "output_type": "execute_result"
    }
   ],
   "source": [
    "history_dict = history.history\n",
    "history_dict.keys()\n",
    "#UPDATE HISTORY"
   ]
  },
  {
   "cell_type": "markdown",
   "metadata": {
    "id": "rJIReUk96BGU"
   },
   "source": [
    "The plot above is representing the loss against epoch trend of **30** total epochs."
   ]
  },
  {
   "cell_type": "code",
   "execution_count": null,
   "metadata": {
    "colab": {
     "base_uri": "https://localhost:8080/",
     "height": 294
    },
    "id": "qK_rd6eOPPfO",
    "outputId": "dd573470-c0b5-4e49-d943-b8a104ca8a55"
   },
   "outputs": [
    {
     "data": {
      "image/png": "[encoded data removed]",
      "text/plain": [
       "<Figure size 432x288 with 1 Axes>"
      ]
     },
     "metadata": {
      "needs_background": "light",
      "tags": []
     },
     "output_type": "display_data"
    }
   ],
   "source": [
    "#plot_loss()"
   ]
  },
  {
   "cell_type": "markdown",
   "metadata": {
    "id": "hFu_wOg66Khd"
   },
   "source": [
    "The plot above is representing a loss against epoch trend number of **10** total epochs."
   ]
  },
  {
   "cell_type": "markdown",
   "metadata": {
    "id": "NKisNjWDPYDM"
   },
   "source": [
    "Keeping 10 as the number of epochs might not be informative as it could potentially not show exactly the point of overfitting and optimal epoch number. Hence, keeping 20 as the number of experiments will be a good indicator. When the number of epoch is set as 30, it is still visible from the graph that overfitting begins around 5 epochs, which is an information that was deducted before even when epochs number was set at 20 to begin with."
   ]
  },
  {
   "cell_type": "markdown",
   "metadata": {
    "id": "NaPdlJ0FU114"
   },
   "source": [
    "<h3> Hyperparameter tuning: Learning Rate </h3>"
   ]
  },
  {
   "cell_type": "markdown",
   "metadata": {
    "id": "Ck7v0xk-ctWR"
   },
   "source": [
    "**Cross-reference with experimentation and log results table**\n",
    "\n",
    "- The validation accuracy was under performing with high learning rate i.e. lr = 0.200 which has been experimented\n",
    "- The learning rate works best in conjugation with the other hyperparameter settings when it is set at its lowest (lr = 0.001)"
   ]
  },
  {
   "cell_type": "markdown",
   "metadata": {
    "id": "eNn6Yt7ydklq"
   },
   "source": [
    "<h3> Further hyperparameter changes and model to regularise </h3>"
   ]
  },
  {
   "cell_type": "markdown",
   "metadata": {
    "id": "7dcqPii4dzSO"
   },
   "source": [
    "There was a general feeling that the validation accuracy without regularisation could be improved. Therefore, another experiment has been conducted with a new number of hidden layer units which thankfully provided a better validation accuracy. This was a 32-32-1 network with 0.001 as learning rate, 1024 as batch size with 20 epochs. This model had the highest validation accuracy so far, which was of 0.8932, which is a good point to be in going into regularising tuning. "
   ]
  },
  {
   "cell_type": "code",
   "execution_count": null,
   "metadata": {
    "colab": {
     "base_uri": "https://localhost:8080/",
     "height": 294
    },
    "id": "b2clrpD2fON8",
    "outputId": "391e0da1-5e4e-46c4-d7de-e94b3aeb47a9"
   },
   "outputs": [
    {
     "data": {
      "image/png": "[encoded data removed]",
      "text/plain": [
       "<Figure size 432x288 with 1 Axes>"
      ]
     },
     "metadata": {
      "needs_background": "light",
      "tags": []
     },
     "output_type": "display_data"
    }
   ],
   "source": [
    "#plot_loss()"
   ]
  },
  {
   "cell_type": "code",
   "execution_count": null,
   "metadata": {
    "colab": {
     "base_uri": "https://localhost:8080/"
    },
    "id": "vBnmehlLfi2Q",
    "outputId": "db718103-14c3-4dc9-8d7d-ef4a67d8fce6"
   },
   "outputs": [
    {
     "data": {
      "text/plain": [
       "dict_keys(['loss', 'accuracy', 'val_loss', 'val_accuracy'])"
      ]
     },
     "execution_count": 22,
     "metadata": {
      "tags": []
     },
     "output_type": "execute_result"
    }
   ],
   "source": [
    "history_dict = history.history\n",
    "history_dict.keys()\n",
    "#UPDATE HISTORY"
   ]
  },
  {
   "cell_type": "markdown",
   "metadata": {
    "id": "diKDJzzog_3R"
   },
   "source": [
    "The graph above shows the loss against epoch graph of the model that produced the highest validation accuracy without regularisation so far. There are some variations in the pattern. This graph also hits the lowest loss out of all the previous graphs of experiments."
   ]
  },
  {
   "cell_type": "code",
   "execution_count": null,
   "metadata": {
    "colab": {
     "base_uri": "https://localhost:8080/",
     "height": 294
    },
    "id": "ddoZns4Tfkn6",
    "outputId": "c286ccec-8c14-4201-aa3a-09bd8d46f128"
   },
   "outputs": [
    {
     "data": {
      "image/png": "[encoded data removed]",
      "text/plain": [
       "<Figure size 432x288 with 1 Axes>"
      ]
     },
     "metadata": {
      "needs_background": "light",
      "tags": []
     },
     "output_type": "display_data"
    }
   ],
   "source": [
    "#plot_acc()"
   ]
  },
  {
   "cell_type": "markdown",
   "metadata": {
    "id": "wmdZPTZLh3YE"
   },
   "source": [
    "The accuracy against epoch shows that max accuracy of this validation accuracy trend is very close to 0.90, which would be a good generalisation, and could increase the predictive power of this model."
   ]
  },
  {
   "cell_type": "markdown",
   "metadata": {
    "id": "5CyRcWk-RM97"
   },
   "source": [
    "<h3> Regularising Tuning </h3>"
   ]
  },
  {
   "cell_type": "markdown",
   "metadata": {
    "id": "oT8jiq_xyWlx"
   },
   "source": [
    "As the penultimate graph shows, overfitting is still an issue despite having a network which produced a fairly high validation accuracy after the optimal number of epochs. \n",
    "\n",
    "The more overfitting the network has, **the less generalisation** it will be able to make on the test data, hence the **predictive power** of the model will decrease. \n",
    "\n",
    "Steps that will be taken in consideration to regularise will include \n",
    "- Reduction of network size \n",
    "- Adding l2 regularisation\n",
    "- Adding dropout layer"
   ]
  },
  {
   "cell_type": "markdown",
   "metadata": {
    "id": "0Lbw94Dm0s0M"
   },
   "source": [
    "<h3> Reduction of network size from 32-32-1 to 16-16-1 <h3>"
   ]
  },
  {
   "cell_type": "code",
   "execution_count": null,
   "metadata": {
    "colab": {
     "base_uri": "https://localhost:8080/",
     "height": 294
    },
    "id": "Y0CZBJxN1mCi",
    "outputId": "00e992fc-49f5-4f82-9ff7-192a8443174d"
   },
   "outputs": [
    {
     "data": {
      "image/png": "[encoded data removed]",
      "text/plain": [
       "<Figure size 432x288 with 1 Axes>"
      ]
     },
     "metadata": {
      "needs_background": "light",
      "tags": []
     },
     "output_type": "display_data"
    }
   ],
   "source": [
    "#plot_loss()"
   ]
  },
  {
   "cell_type": "code",
   "execution_count": null,
   "metadata": {
    "colab": {
     "base_uri": "https://localhost:8080/"
    },
    "id": "gHKXXWmX1vaW",
    "outputId": "cbbc4325-0fe0-4980-d7f9-435bbe7e5a25"
   },
   "outputs": [
    {
     "data": {
      "text/plain": [
       "dict_keys(['loss', 'accuracy', 'val_loss', 'val_accuracy'])"
      ]
     },
     "execution_count": 71,
     "metadata": {
      "tags": []
     },
     "output_type": "execute_result"
    }
   ],
   "source": [
    "history_dict = history.history\n",
    "history_dict.keys()\n",
    "#UPDATE HISTORY"
   ]
  },
  {
   "cell_type": "code",
   "execution_count": null,
   "metadata": {
    "colab": {
     "base_uri": "https://localhost:8080/",
     "height": 294
    },
    "id": "YXq8LcnN1wsi",
    "outputId": "23f01b05-5fd6-4e62-893a-7dd6222f8495"
   },
   "outputs": [
    {
     "data": {
      "image/png": "[encoded data removed]",
      "text/plain": [
       "<Figure size 432x288 with 1 Axes>"
      ]
     },
     "metadata": {
      "needs_background": "light",
      "tags": []
     },
     "output_type": "display_data"
    }
   ],
   "source": [
    "#plot_acc()"
   ]
  },
  {
   "cell_type": "markdown",
   "metadata": {
    "id": "9zX3fPmt13CL"
   },
   "source": [
    "Evaluation on network reduction: Overfitting has decreased as visible in the first graph plotting loss against epochs. This has been achieved by executing a reduction of the network. At the expense of the overfitting decrease, the accuracy of the validation set has decreased as well. Prior to the network size decrease, the accuracy of the validation set would be around 0.89 during the optimal epoch, now it is around 0.88."
   ]
  },
  {
   "cell_type": "markdown",
   "metadata": {
    "id": "pOBw2un53at7"
   },
   "source": [
    "<h3> Adding L2 regularisation<h3>"
   ]
  },
  {
   "cell_type": "markdown",
   "metadata": {
    "id": "GKUYO5A55BQe"
   },
   "source": [
    "L2 regularisation has been added to both of the dense layers that now have 16 Hidden Layer Unit each using the command - kernel_regularizer=regularizers.l2(0.001) with the aim of reducing overfitting. The next two graphs will show the results of this addition. "
   ]
  },
  {
   "cell_type": "code",
   "execution_count": null,
   "metadata": {
    "colab": {
     "base_uri": "https://localhost:8080/",
     "height": 294
    },
    "id": "y9ePPi655fev",
    "outputId": "0f8b0604-5ef5-4600-ad8e-38bd38411e57"
   },
   "outputs": [
    {
     "data": {
      "image/png": "[encoded data removed]",
      "text/plain": [
       "<Figure size 432x288 with 1 Axes>"
      ]
     },
     "metadata": {
      "needs_background": "light",
      "tags": []
     },
     "output_type": "display_data"
    }
   ],
   "source": [
    "#plot_loss()"
   ]
  },
  {
   "cell_type": "code",
   "execution_count": null,
   "metadata": {
    "colab": {
     "base_uri": "https://localhost:8080/"
    },
    "id": "mFsQqegI7EvJ",
    "outputId": "96db256b-4f19-46f8-d57a-8fdcbcfe8644"
   },
   "outputs": [
    {
     "data": {
      "text/plain": [
       "dict_keys(['loss', 'accuracy', 'val_loss', 'val_accuracy'])"
      ]
     },
     "execution_count": 75,
     "metadata": {
      "tags": []
     },
     "output_type": "execute_result"
    }
   ],
   "source": [
    "history_dict = history.history\n",
    "history_dict.keys()\n",
    "#UPDATE HISTORY"
   ]
  },
  {
   "cell_type": "code",
   "execution_count": null,
   "metadata": {
    "colab": {
     "base_uri": "https://localhost:8080/",
     "height": 294
    },
    "id": "NGn0JLIt7GCj",
    "outputId": "36633d0e-b4c5-48b4-a454-ef1fc88d7969"
   },
   "outputs": [
    {
     "data": {
      "image/png": "[encoded data removed]",
      "text/plain": [
       "<Figure size 432x288 with 1 Axes>"
      ]
     },
     "metadata": {
      "needs_background": "light",
      "tags": []
     },
     "output_type": "display_data"
    }
   ],
   "source": [
    "#plot_acc()"
   ]
  },
  {
   "cell_type": "markdown",
   "metadata": {
    "id": "-MZpLyOzmuqG"
   },
   "source": [
    "Evaluation: After the application of the **L2 regularisation** on the the two dense relu activated layers on this network, the curve of overfitting has flattened even further. Which is a positive result. The accuracy of the validation is at its maximum around 0.88 (88%).With a large overfitting, the max accuracy was 89%. There is still a slight overfitting in the accuracy against epoch. "
   ]
  },
  {
   "cell_type": "markdown",
   "metadata": {
    "id": "IUo8D3Zfqi9G"
   },
   "source": [
    "<h3> Adding Dropout Layer<h3>"
   ]
  },
  {
   "cell_type": "markdown",
   "metadata": {
    "id": "3QNnsqUZtLNU"
   },
   "source": [
    "A drop out layer has been added between the two 16 unit dense relu activated layers to cure overfitting further. This section will show the results of this experiment. All experiments are also visible in the experimentation table for further correspondance on specific numerical values."
   ]
  },
  {
   "cell_type": "code",
   "execution_count": null,
   "metadata": {
    "colab": {
     "base_uri": "https://localhost:8080/",
     "height": 295
    },
    "id": "1Q4LFJxf0Gzm",
    "outputId": "79b86d3f-f037-4c39-f200-2b5b23be2921"
   },
   "outputs": [
    {
     "data": {
      "image/png": "[encoded data removed]",
      "text/plain": [
       "<Figure size 432x288 with 1 Axes>"
      ]
     },
     "metadata": {
      "needs_background": "light",
      "tags": []
     },
     "output_type": "display_data"
    }
   ],
   "source": [
    "#plot_loss()"
   ]
  },
  {
   "cell_type": "code",
   "execution_count": null,
   "metadata": {
    "colab": {
     "base_uri": "https://localhost:8080/"
    },
    "id": "z7Bumcvs2-r1",
    "outputId": "9d80337c-a623-46dd-a84a-4e5297899290"
   },
   "outputs": [
    {
     "data": {
      "text/plain": [
       "dict_keys(['loss', 'accuracy', 'val_loss', 'val_accuracy'])"
      ]
     },
     "execution_count": 11,
     "metadata": {
      "tags": []
     },
     "output_type": "execute_result"
    }
   ],
   "source": [
    "history_dict = history.history\n",
    "history_dict.keys()\n",
    "#UPDATE HISTORY\n"
   ]
  },
  {
   "cell_type": "code",
   "execution_count": null,
   "metadata": {
    "colab": {
     "base_uri": "https://localhost:8080/",
     "height": 295
    },
    "id": "rp-3U4wk3BZx",
    "outputId": "4d86d919-82a1-40b6-a8c2-54b753fbd2f0"
   },
   "outputs": [
    {
     "data": {
      "image/png": "[encoded data removed]",
      "text/plain": [
       "<Figure size 432x288 with 1 Axes>"
      ]
     },
     "metadata": {
      "needs_background": "light",
      "tags": []
     },
     "output_type": "display_data"
    }
   ],
   "source": [
    "#plot_acc()"
   ]
  },
  {
   "cell_type": "markdown",
   "metadata": {
    "id": "ABkddVRX40cJ"
   },
   "source": [
    "Evaluation: This was the last regularisation step. As the graph of the loss plotted against epoch numbers shows overfitting has decreased considerably compared to the pre-regularisation model that had a capacity of 32-32-1. This model has potentially the highest statistical power so far. The accuracy overfitting has also been reduced. The training and validation accuracy are less apart compared to previous experimentation results. The highest recorded validation accuracy recorded for this model occured around epoch 9 (0.8893)."
   ]
  },
  {
   "cell_type": "markdown",
   "metadata": {
    "id": "urX5-x4dhxuc"
   },
   "source": [
    "<h2> Model trained: Training on Test Data and Network Evaluation </h2>"
   ]
  },
  {
   "cell_type": "markdown",
   "metadata": {
    "id": "DZTCZ5bI4C9a"
   },
   "source": [
    "The IMDB network has been trained to find optimal hyperparameter tunings. The network has also been equipped with experimented regularisation values that have been deployed in the validation sets during the experimentation. In the upcoming section, a new model will be constructed with the optimal values found from the experimentation phase. \n",
    "\n",
    "The ideal epoch number has been identified as 5 epochs. This information can be cross-referenced with the experimentation table at the end of this report. Dropout layer and L2 regularisations will also be kept in the final model along with batch size 1024 and the last regularised capacity of 16-16-1. "
   ]
  },
  {
   "cell_type": "markdown",
   "metadata": {
    "id": "1ql8a2dx639K"
   },
   "source": [
    "<h3> New model using test set. </h3>"
   ]
  },
  {
   "cell_type": "code",
   "execution_count": null,
   "metadata": {
    "colab": {
     "base_uri": "https://localhost:8080/"
    },
    "id": "wmoRBFei7ACL",
    "outputId": "cb28858e-d39b-4528-d5e8-223c9aac8a05"
   },
   "outputs": [
    {
     "name": "stdout",
     "output_type": "stream",
     "text": [
      "Epoch 1/5\n",
      "25/25 [==============================] - 2s 62ms/step - loss: 0.6204 - accuracy: 0.7002\n",
      "Epoch 2/5\n",
      "25/25 [==============================] - 1s 60ms/step - loss: 0.4770 - accuracy: 0.8171\n",
      "Epoch 3/5\n",
      "25/25 [==============================] - 1s 60ms/step - loss: 0.4045 - accuracy: 0.8613\n",
      "Epoch 4/5\n",
      "25/25 [==============================] - 1s 54ms/step - loss: 0.3587 - accuracy: 0.8895\n",
      "Epoch 5/5\n",
      "25/25 [==============================] - 1s 59ms/step - loss: 0.3298 - accuracy: 0.9037\n"
     ]
    },
    {
     "data": {
      "text/plain": [
       "<tensorflow.python.keras.callbacks.History at 0x7ff8465caa20>"
      ]
     },
     "execution_count": 13,
     "metadata": {
      "tags": []
     },
     "output_type": "execute_result"
    }
   ],
   "source": [
    "from tensorflow.keras import models\n",
    "from tensorflow.keras import layers\n",
    "from tensorflow.keras import regularizers\n",
    "from tensorflow.keras import optimizers, losses\n",
    "\n",
    "model = models.Sequential()\n",
    "model.add(layers.Dense(16, \n",
    "                       kernel_regularizer=regularizers.l2(0.001),\n",
    "                       activation = 'relu', \n",
    "                       input_shape = (10000,)\n",
    "                       ))\n",
    "model.add(layers.Dropout(0.5))\n",
    "model.add(layers.Dense(16, \n",
    "                       activation = 'relu',\n",
    "                       kernel_regularizer=regularizers.l2(0.001)\n",
    "                       ))\n",
    "\n",
    "model.add(layers.Dense(1, activation = 'sigmoid'))\n",
    "\n",
    "model.compile(optimizer=optimizers.RMSprop(lr=0.001),\n",
    "             loss = losses.binary_crossentropy,\n",
    "             metrics=['accuracy'])\n",
    "\n",
    "model.fit(x_train, \n",
    "                    y_train,\n",
    "                    epochs = 5,\n",
    "                    batch_size = 1024)"
   ]
  },
  {
   "cell_type": "markdown",
   "metadata": {
    "id": "vGMxVf6FNzw3"
   },
   "source": [
    "Using a network with the hyperparameter tunings and regularisations identified, the loss achieved on the optimal epoch is 0.3298, the accuracy was 0.9037, this is high becuase it has been executed on the test data. The next step is to evaluate the statistical power of the network using the .evaluate command on the network. "
   ]
  },
  {
   "cell_type": "code",
   "execution_count": null,
   "metadata": {
    "colab": {
     "base_uri": "https://localhost:8080/"
    },
    "id": "OoH8JicPO0t4",
    "outputId": "a37b38be-0833-4fd3-fbf6-4ff98cc314e1"
   },
   "outputs": [
    {
     "name": "stdout",
     "output_type": "stream",
     "text": [
      "782/782 [==============================] - 2s 3ms/step - loss: 0.3282 - accuracy: 0.8886\n"
     ]
    },
    {
     "data": {
      "text/plain": [
       "[0.3281642198562622, 0.8885999917984009]"
      ]
     },
     "execution_count": 14,
     "metadata": {
      "tags": []
     },
     "output_type": "execute_result"
    }
   ],
   "source": [
    "#Results is a variable storing the evaluation on the network \n",
    "results = model.evaluate(x_test, y_test)\n",
    "results"
   ]
  },
  {
   "cell_type": "markdown",
   "metadata": {
    "id": "Ig-wri2DnleW"
   },
   "source": [
    "<h3> Discussion </h3>"
   ]
  },
  {
   "cell_type": "markdown",
   "metadata": {
    "id": "49DA-vnxnpAk"
   },
   "source": [
    "Simple problems such as the IMBD dataset does not offer much accuracy gain, whereas a database such as ImageNet, which is a more complex problem, could potentially offer a more substantial gain. \n",
    "\n",
    "\n",
    "The loss achieved for the evaluation on the best network experimented in this report has produced a loss of 0.3281 and an accuracy of 0.8885 on the model.evaluate test. \n",
    "\n",
    "Currently, regularisation is not producing a gain in accuracy compared to models that are not regularised. For the purposes of further experimentation, another test will be conducted with a bigger network, which will be regularised using the same technique applied in the network up to the preliminary conclusion to see if the results contradict (or not) the tests that I have previously conducted. The aim is to achieve a gain in the validation accuracy and regularise at the same time. A network of size 512-512-1 will be used for this purpose.\n"
   ]
  },
  {
   "cell_type": "markdown",
   "metadata": {
    "id": "qF1JAwNRRIu1"
   },
   "source": [
    "<h2> Scaling up: Experimenting with Larger Networks </h2>"
   ]
  },
  {
   "cell_type": "markdown",
   "metadata": {
    "id": "7sUelXxNbJzw"
   },
   "source": [
    "Further experimentation with a 512-512-1 network."
   ]
  },
  {
   "cell_type": "code",
   "execution_count": null,
   "metadata": {
    "colab": {
     "base_uri": "https://localhost:8080/",
     "height": 295
    },
    "id": "LWgcQLMncwD2",
    "outputId": "e847d98e-8063-481b-9a17-77846cbf6760"
   },
   "outputs": [
    {
     "data": {
      "image/png": "[encoded data removed]",
      "text/plain": [
       "<Figure size 432x288 with 1 Axes>"
      ]
     },
     "metadata": {
      "needs_background": "light",
      "tags": []
     },
     "output_type": "display_data"
    }
   ],
   "source": [
    "#plot_loss()"
   ]
  },
  {
   "cell_type": "code",
   "execution_count": null,
   "metadata": {
    "colab": {
     "base_uri": "https://localhost:8080/"
    },
    "id": "bEjFidJBdHAw",
    "outputId": "e314663b-5b03-4f76-8da3-39a99acf1e4c"
   },
   "outputs": [
    {
     "data": {
      "text/plain": [
       "dict_keys(['loss', 'accuracy', 'val_loss', 'val_accuracy'])"
      ]
     },
     "execution_count": 19,
     "metadata": {
      "tags": []
     },
     "output_type": "execute_result"
    }
   ],
   "source": [
    "history_dict = history.history\n",
    "history_dict.keys()\n",
    "#UPDATE HISTORY"
   ]
  },
  {
   "cell_type": "code",
   "execution_count": null,
   "metadata": {
    "colab": {
     "base_uri": "https://localhost:8080/",
     "height": 295
    },
    "id": "Q8vODHChfZ1a",
    "outputId": "403cf685-8cc6-427a-d040-066ed41debc1"
   },
   "outputs": [
    {
     "data": {
      "image/png": "[encoded data removed]",
      "text/plain": [
       "<Figure size 432x288 with 1 Axes>"
      ]
     },
     "metadata": {
      "needs_background": "light",
      "tags": []
     },
     "output_type": "display_data"
    }
   ],
   "source": [
    "#plot_acc()"
   ]
  },
  {
   "cell_type": "markdown",
   "metadata": {
    "id": "N1XDAnhTfed5"
   },
   "source": [
    "The loss and accuracy plots above are representing the non-regularised graphs of the 512-512-1 capacity network. The next phase is to add the regularisation layers and adjustments. The accuracy plot is quite noisy. There is overfitting happening as regularisation has not been applied yet."
   ]
  },
  {
   "cell_type": "markdown",
   "metadata": {
    "id": "Dno4R4-tW0RP"
   },
   "source": [
    "Regularise the 512-512-1 capacity network with Drop Out and L2 regularisation "
   ]
  },
  {
   "cell_type": "code",
   "execution_count": 8,
   "metadata": {
    "colab": {
     "base_uri": "https://localhost:8080/",
     "height": 295
    },
    "id": "CaYWV5wqirlM",
    "outputId": "12edda0e-947a-4ab6-e738-fe112c6334c5"
   },
   "outputs": [
    {
     "data": {
      "image/png": "[encoded data removed]",
      "text/plain": [
       "<Figure size 432x288 with 1 Axes>"
      ]
     },
     "metadata": {
      "needs_background": "light",
      "tags": []
     },
     "output_type": "display_data"
    }
   ],
   "source": [
    "#plot_loss()"
   ]
  },
  {
   "cell_type": "markdown",
   "metadata": {
    "id": "aYUWgGVMWzAb"
   },
   "source": [
    "The network has been regularised and trained. The next stage is to build a new model to evaluate the statistical power in order to test whether there is any accuracy gain from regularisation on this larger network. The loss/epochs plot above is showing that overfitting has been reduced. The highest validation accuracy was at epoch 6 (0.8902). Therefore, the new network will be trained until 6 epochs which has been designated as the optimal number of epoch. The rest of the hyperparameter tunings and regularisations are the same as the 16-16-1 network trained in the previous experiments. The batch size is still 1024, learning rate still set at 0.001 and the activation function is still Relu given the fact that it proved effective so far."
   ]
  },
  {
   "cell_type": "markdown",
   "metadata": {
    "id": "e5ItXbLakgfe"
   },
   "source": [
    "<h3> Network trained. Create a new network to train on test data and evaluate performance. </h3>"
   ]
  },
  {
   "cell_type": "code",
   "execution_count": 9,
   "metadata": {
    "colab": {
     "base_uri": "https://localhost:8080/",
     "height": 0
    },
    "id": "WnmYek6Tem3h",
    "outputId": "c29896ea-75ed-44b1-e1a8-72c71971c44c"
   },
   "outputs": [
    {
     "name": "stdout",
     "output_type": "stream",
     "text": [
      "Epoch 1/6\n",
      "25/25 [==============================] - 10s 417ms/step - loss: 1.2685 - accuracy: 0.7356\n",
      "Epoch 2/6\n",
      "25/25 [==============================] - 10s 415ms/step - loss: 0.6543 - accuracy: 0.8611\n",
      "Epoch 3/6\n",
      "25/25 [==============================] - 10s 416ms/step - loss: 0.4823 - accuracy: 0.8902\n",
      "Epoch 4/6\n",
      "25/25 [==============================] - 10s 416ms/step - loss: 0.4094 - accuracy: 0.8962\n",
      "Epoch 5/6\n",
      "25/25 [==============================] - 10s 416ms/step - loss: 0.3752 - accuracy: 0.9043\n",
      "Epoch 6/6\n",
      "25/25 [==============================] - 10s 419ms/step - loss: 0.3418 - accuracy: 0.9115\n"
     ]
    },
    {
     "data": {
      "text/plain": [
       "<tensorflow.python.keras.callbacks.History at 0x7f5ad4773fd0>"
      ]
     },
     "execution_count": 9,
     "metadata": {
      "tags": []
     },
     "output_type": "execute_result"
    }
   ],
   "source": [
    "from tensorflow.keras import models\n",
    "from tensorflow.keras import layers\n",
    "from tensorflow.keras import regularizers\n",
    "from tensorflow.keras import optimizers, losses\n",
    "\n",
    "model = models.Sequential()\n",
    "model.add(layers.Dense(512, \n",
    "                       kernel_regularizer=regularizers.l2(0.001),\n",
    "                       activation = 'relu', \n",
    "                       input_shape = (10000,)\n",
    "                       ))\n",
    "model.add(layers.Dropout(0.5))\n",
    "model.add(layers.Dense(512, \n",
    "                       activation = 'relu',\n",
    "                       kernel_regularizer=regularizers.l2(0.001)\n",
    "                       ))\n",
    "\n",
    "model.add(layers.Dense(1, activation = 'sigmoid'))\n",
    "\n",
    "model.compile(optimizer=optimizers.RMSprop(lr=0.001),\n",
    "             loss = losses.binary_crossentropy,\n",
    "             metrics=['accuracy'])\n",
    "\n",
    "model.fit(x_train, \n",
    "                    y_train,\n",
    "                    epochs = 6,\n",
    "                    batch_size = 1024)"
   ]
  },
  {
   "cell_type": "markdown",
   "metadata": {
    "id": "UEAmXny3hZ3w"
   },
   "source": [
    "The new scaled up network has now been trained using the test set. The next command will be network.evaluate to see if there has been any gain in accuracy compared to smaller networks."
   ]
  },
  {
   "cell_type": "code",
   "execution_count": 10,
   "metadata": {
    "colab": {
     "base_uri": "https://localhost:8080/",
     "height": 0
    },
    "id": "ItALOqkFhskI",
    "outputId": "f420db08-790b-4709-eb78-0d09c7bc0ef0"
   },
   "outputs": [
    {
     "name": "stdout",
     "output_type": "stream",
     "text": [
      "782/782 [==============================] - 14s 18ms/step - loss: 0.3980 - accuracy: 0.8839\n"
     ]
    },
    {
     "data": {
      "text/plain": [
       "[0.39803946018218994, 0.8838800191879272]"
      ]
     },
     "execution_count": 10,
     "metadata": {
      "tags": []
     },
     "output_type": "execute_result"
    }
   ],
   "source": [
    "results = model.evaluate(x_test, y_test)\n",
    "results"
   ]
  },
  {
   "cell_type": "markdown",
   "metadata": {
    "id": "ydmC9wsq9phg"
   },
   "source": [
    "# Experimentation and Results Log"
   ]
  },
  {
   "cell_type": "markdown",
   "metadata": {
    "id": "qqIj_d9QcMwZ"
   },
   "source": [
    "This section will cluster together tables which have the same experimentation label. \n",
    "\n",
    "Refer to the table and to the graphs present in the **Main Experiments** to compare numerical values.\n",
    "\n",
    "Refer to Findings (comments) column in the tables below for a description and more accurate breakdown of results."
   ]
  },
  {
   "cell_type": "markdown",
   "metadata": {
    "id": "2Th9yUrpcbiS"
   },
   "source": [
    "<h3> Results of: Changing Units of Hidden Layer </h3>"
   ]
  },
  {
   "cell_type": "markdown",
   "metadata": {
    "id": "EAdl-B5JcrCW"
   },
   "source": [
    "<style type=\"text/css\">\n",
    ".tg  {border-collapse:collapse;border-spacing:0;}\n",
    ".tg td{border-color:black;border-style:solid;border-width:1px;font-family:Arial, sans-serif;font-size:14px;\n",
    "  overflow:hidden;padding:10px 5px;word-break:normal;}\n",
    ".tg th{border-color:black;border-style:solid;border-width:1px;font-family:Arial, sans-serif;font-size:14px;\n",
    "  font-weight:normal;overflow:hidden;padding:10px 5px;word-break:normal;}\n",
    ".tg .tg-jxgv{background-color:#FFF;border-color:inherit;text-align:left;vertical-align:top}\n",
    ".tg .tg-0pky{border-color:inherit;text-align:left;vertical-align:top}\n",
    ".tg .tg-7lf8{background-color:#CCC;border-color:inherit;text-align:left;vertical-align:top}\n",
    ".tg .tg-0lax{text-align:left;vertical-align:top}\n",
    ".tg .tg-zqhz{background-color:#CCC;text-align:left;vertical-align:top}\n",
    "</style>\n",
    "<table class=\"tg\">\n",
    "<thead>\n",
    "  <tr>\n",
    "    <th class=\"tg-0pky\">No.</th>\n",
    "    <th class=\"tg-jxgv\"><span style=\"background-color:white\">&nbsp;&nbsp;&nbsp;</span><br>Experiment type<span style=\"background-color:white\">&nbsp;&nbsp;&nbsp;</span></th>\n",
    "    <th class=\"tg-jxgv\"><span style=\"background-color:white\">&nbsp;&nbsp;&nbsp;</span><br><span style=\"color:black\">Network capacity</span><span style=\"background-color:white\">&nbsp;&nbsp;&nbsp;</span></th>\n",
    "    <th class=\"tg-jxgv\"><span style=\"background-color:white\">&nbsp;&nbsp;&nbsp;</span><br><span style=\"color:black\">Highest Accuracy&nbsp;&nbsp;&nbsp;Validation</span><span style=\"background-color:white\">&nbsp;&nbsp;&nbsp;</span></th>\n",
    "    <th class=\"tg-jxgv\"><span style=\"background-color:white\">&nbsp;&nbsp;&nbsp;</span><br><span style=\"color:black\">Epoch number</span><span style=\"background-color:white\">&nbsp;&nbsp;&nbsp;</span></th>\n",
    "    <th class=\"tg-jxgv\"><span style=\"background-color:white\">&nbsp;&nbsp;&nbsp;</span><br><span style=\"color:black\">Batch size</span><span style=\"background-color:white\">&nbsp;&nbsp;&nbsp;</span></th>\n",
    "    <th class=\"tg-jxgv\"><span style=\"background-color:white\">&nbsp;&nbsp;&nbsp;</span><br><span style=\"color:black\">Findings (comments)</span><span style=\"background-color:white\">&nbsp;&nbsp;&nbsp;</span></th>\n",
    "  </tr>\n",
    "</thead>\n",
    "<tbody>\n",
    "  <tr>\n",
    "    <td class=\"tg-0pky\">1</td>\n",
    "    <td class=\"tg-jxgv\"><span style=\"background-color:white\">&nbsp;&nbsp;&nbsp;</span><br>Changing Unit<span style=\"color:black\">s of&nbsp;&nbsp;&nbsp;Hidden Layers</span><span style=\"background-color:white\">&nbsp;&nbsp;&nbsp;</span></td>\n",
    "    <td class=\"tg-jxgv\"><span style=\"background-color:white\">&nbsp;&nbsp;&nbsp;</span><br><span style=\"color:black\">2-2-1</span><span style=\"background-color:white\">&nbsp;&nbsp;&nbsp;</span></td>\n",
    "    <td class=\"tg-jxgv\"><span style=\"background-color:white\">&nbsp;&nbsp;&nbsp;</span><br><span style=\"color:black\">0.8775</span><span style=\"background-color:white\">&nbsp;&nbsp;&nbsp;</span></td>\n",
    "    <td class=\"tg-jxgv\"><span style=\"background-color:white\">&nbsp;&nbsp;&nbsp;</span><br><span style=\"color:black\">10/20</span><span style=\"background-color:white\">&nbsp;&nbsp;&nbsp;</span></td>\n",
    "    <td class=\"tg-jxgv\"><span style=\"background-color:white\">&nbsp;&nbsp;&nbsp;</span><br><span style=\"color:black\">512</span><span style=\"background-color:white\">&nbsp;&nbsp;&nbsp;</span></td>\n",
    "    <td class=\"tg-jxgv\"><span style=\"background-color:white\">   </span><br><span style=\"color:black\">Trend showing substantial underfitting. Both losses are lowering. Network capacity too   small.</span><span style=\"background-color:white\">   </span></td>\n",
    "  </tr>\n",
    "  <tr>\n",
    "    <td class=\"tg-0pky\">2</td>\n",
    "    <td class=\"tg-7lf8\"><span style=\"background-color:#CCC\">&nbsp;&nbsp;&nbsp;</span><br><span style=\"color:black\">Changing Units of&nbsp;&nbsp;&nbsp;Hidden Layers</span><span style=\"background-color:#CCC\">&nbsp;&nbsp;&nbsp;</span></td>\n",
    "    <td class=\"tg-7lf8\"><span style=\"background-color:#CCC\">&nbsp;&nbsp;&nbsp;</span><br><span style=\"color:black\">16-16-1</span><span style=\"background-color:#CCC\">&nbsp;&nbsp;&nbsp;</span></td>\n",
    "    <td class=\"tg-7lf8\"><span style=\"background-color:#CCC\">&nbsp;&nbsp;&nbsp;</span><br><span style=\"color:black\">0.8868</span><span style=\"background-color:#CCC\">&nbsp;&nbsp;&nbsp;</span></td>\n",
    "    <td class=\"tg-7lf8\"><span style=\"background-color:#CCC\">&nbsp;&nbsp;&nbsp;</span><br><span style=\"color:black\">5/20</span><span style=\"background-color:#CCC\">&nbsp;&nbsp;&nbsp;</span></td>\n",
    "    <td class=\"tg-7lf8\"><span style=\"background-color:#CCC\">&nbsp;&nbsp;&nbsp;</span><br><span style=\"color:black\">512</span><span style=\"background-color:#CCC\">&nbsp;&nbsp;&nbsp;</span></td>\n",
    "    <td class=\"tg-7lf8\"><span style=\"background-color:#CCC\">   </span><br><span style=\"color:black\">Overfitting. The validation loss starts to increase at a quite steady pace after epoch 5.</span><span style=\"background-color:#CCC\">   </span></td>\n",
    "  </tr>\n",
    "  <tr>\n",
    "    <td class=\"tg-0pky\">3</td>\n",
    "    <td class=\"tg-0pky\">&nbsp;&nbsp;&nbsp;<br>Changing Units of Hidden Layers&nbsp;&nbsp;&nbsp;</td>\n",
    "    <td class=\"tg-0pky\">&nbsp;&nbsp;&nbsp;<br>64-64-1&nbsp;&nbsp;&nbsp;</td>\n",
    "    <td class=\"tg-0pky\">&nbsp;&nbsp;&nbsp;<br>0.8822&nbsp;&nbsp;&nbsp;</td>\n",
    "    <td class=\"tg-0pky\">&nbsp;&nbsp;&nbsp;<br>5/20&nbsp;&nbsp;&nbsp;</td>\n",
    "    <td class=\"tg-0pky\">&nbsp;&nbsp;&nbsp;<br>512&nbsp;&nbsp;&nbsp;</td>\n",
    "    <td class=\"tg-0pky\">   <br>Overfitting. For this network capacity, overfitting occurs quite quickly compared to previous experiment.    </td>\n",
    "  </tr>\n",
    "  <tr>\n",
    "    <td class=\"tg-0pky\">4</td>\n",
    "    <td class=\"tg-7lf8\"><br><span style=\"color:black\">Changing Units of Hidden Layers</span><br></td>\n",
    "    <td class=\"tg-7lf8\"><span style=\"background-color:#CCC\">&nbsp;&nbsp;&nbsp;</span><br><span style=\"color:black\">512-512-1</span><span style=\"background-color:#CCC\">&nbsp;&nbsp;&nbsp;</span></td>\n",
    "    <td class=\"tg-7lf8\"><span style=\"background-color:#CCC\">&nbsp;&nbsp;&nbsp;</span><br><span style=\"color:black\">0.8900</span><span style=\"background-color:#CCC\">&nbsp;&nbsp;&nbsp;</span></td>\n",
    "    <td class=\"tg-7lf8\"><span style=\"background-color:#CCC\">&nbsp;&nbsp;&nbsp;</span><br><span style=\"color:black\">6/20</span><span style=\"background-color:#CCC\">&nbsp;&nbsp;&nbsp;</span></td>\n",
    "    <td class=\"tg-7lf8\"><span style=\"background-color:#CCC\">&nbsp;&nbsp;&nbsp;</span><br><span style=\"color:black\">512</span><span style=\"background-color:#CCC\">&nbsp;&nbsp;&nbsp;</span></td>\n",
    "    <td class=\"tg-7lf8\"><br><span style=\"color:black\">Highest validation accuracy so far. Biggest gap between training loss and validation loss after epoch 5. </span><br><br><span style=\"color:black\">Biggest amount of overfitting compared to previous experiments.</span></td>\n",
    "  </tr>\n",
    "  <tr>\n",
    "    <td class=\"tg-0pky\">5</td>\n",
    "    <td class=\"tg-jxgv\"><span style=\"background-color:white\">   </span><br>Changing Unit<span style=\"color:black\">s of Hidden Layers (4 relu + sigmoid)</span><span style=\"background-color:white\">   </span></td>\n",
    "    <td class=\"tg-jxgv\"><span style=\"background-color:white\">&nbsp;&nbsp;&nbsp;</span><br><span style=\"color:black\">16-16-16-1</span><br><span style=\"background-color:white\">&nbsp;&nbsp;&nbsp;</span><br> <span style=\"background-color:white\">&nbsp;&nbsp;&nbsp;</span></td>\n",
    "    <td class=\"tg-jxgv\"><span style=\"background-color:white\">&nbsp;&nbsp;&nbsp;</span><br><span style=\"color:black\">0.8865</span><span style=\"background-color:white\">&nbsp;&nbsp;&nbsp;</span></td>\n",
    "    <td class=\"tg-jxgv\"><span style=\"background-color:white\">&nbsp;&nbsp;&nbsp;</span><br><span style=\"color:black\">7/20</span><span style=\"background-color:white\">&nbsp;&nbsp;&nbsp;</span></td>\n",
    "    <td class=\"tg-jxgv\"><span style=\"background-color:white\">&nbsp;&nbsp;&nbsp;</span><br><span style=\"color:black\">1024</span><span style=\"background-color:white\">&nbsp;&nbsp;&nbsp;</span></td>\n",
    "    <td class=\"tg-jxgv\"><span style=\"background-color:white\">   </span><br><span style=\"color:black\">It seems like with increased batch size, the optimal epoch value is shifting towards 6 and 7.</span><br></td>\n",
    "  </tr>\n",
    "  <tr>\n",
    "    <td class=\"tg-0lax\">6</td>\n",
    "    <td class=\"tg-zqhz\"><span style=\"background-color:#CCC\">   </span><br><span style=\"color:black\">Changing Units of Hidden Layers </span><span style=\"background-color:#CCC\">   </span></td>\n",
    "    <td class=\"tg-zqhz\"><span style=\"background-color:#CCC\">&nbsp;&nbsp;&nbsp;</span><br><span style=\"color:black\">32-32-1</span><span style=\"background-color:#CCC\">&nbsp;&nbsp;&nbsp;</span></td>\n",
    "    <td class=\"tg-zqhz\"><span style=\"background-color:#CCC\">&nbsp;&nbsp;&nbsp;</span><br><span style=\"color:black\">0.8897</span><span style=\"background-color:#CCC\">&nbsp;&nbsp;&nbsp;</span></td>\n",
    "    <td class=\"tg-zqhz\"><span style=\"background-color:#CCC\">&nbsp;&nbsp;&nbsp;</span><br><span style=\"color:black\">5/20</span><span style=\"background-color:#CCC\">&nbsp;&nbsp;&nbsp;</span></td>\n",
    "    <td class=\"tg-zqhz\"><span style=\"background-color:#CCC\">&nbsp;&nbsp;&nbsp;</span><br><span style=\"color:black\">1024</span><span style=\"background-color:#CCC\">&nbsp;&nbsp;&nbsp;</span></td>\n",
    "    <td class=\"tg-zqhz\"><br><span style=\"color:black\">The accuracy validation is high compared to smaller batch size experiments. </span><br><br><span style=\"color:black\">Assumption   made in the previous experiment failed as this value was the output at epoch  5 – still optimal training number. </span><br><br><span style=\"color:black\">The 32-32-1 is&nbsp;&nbsp;performing better than the 16-16-1 layer with batch size 1024. This seems the most ideal combination so far.</span></td>\n",
    "  </tr>\n",
    "</tbody>\n",
    "</table>"
   ]
  },
  {
   "cell_type": "markdown",
   "metadata": {
    "id": "JfrVeJ8Vcu3M"
   },
   "source": [
    "<h3> Results of: Changing Batch Size </h3>"
   ]
  },
  {
   "cell_type": "markdown",
   "metadata": {
    "id": "hqa6V9JxW1Cf"
   },
   "source": [
    "Evaluation: The main reason behind the choice of 1024 over 256 batch size despite lower validation accuracy is due to the fact that with a batch size of 1024 the accuracy was still relatively high (0.884) with less overfitting compared to 256 and 512 batch size."
   ]
  },
  {
   "cell_type": "markdown",
   "metadata": {
    "id": "VUpb466cdX17"
   },
   "source": [
    "<style type=\"text/css\">\n",
    ".tg  {border-collapse:collapse;border-spacing:0;}\n",
    ".tg td{border-color:black;border-style:solid;border-width:1px;font-family:Arial, sans-serif;font-size:14px;\n",
    "  overflow:hidden;padding:10px 5px;word-break:normal;}\n",
    ".tg th{border-color:black;border-style:solid;border-width:1px;font-family:Arial, sans-serif;font-size:14px;\n",
    "  font-weight:normal;overflow:hidden;padding:10px 5px;word-break:normal;}\n",
    ".tg .tg-jxgv{background-color:#FFF;border-color:inherit;text-align:left;vertical-align:top}\n",
    ".tg .tg-0pky{border-color:inherit;text-align:left;vertical-align:top}\n",
    ".tg .tg-0lax{text-align:left;vertical-align:top}\n",
    ".tg .tg-zqhz{background-color:#CCC;text-align:left;vertical-align:top}\n",
    "</style>\n",
    "<table class=\"tg\">\n",
    "<thead>\n",
    "  <tr>\n",
    "    <th class=\"tg-0pky\">No.</th>\n",
    "    <th class=\"tg-jxgv\"><span style=\"background-color:white\">&nbsp;&nbsp;&nbsp;</span><br>Experiment type<span style=\"background-color:white\">&nbsp;&nbsp;&nbsp;</span></th>\n",
    "    <th class=\"tg-jxgv\"><span style=\"background-color:white\">&nbsp;&nbsp;&nbsp;</span><br><span style=\"color:black\">Network capacity</span><span style=\"background-color:white\">&nbsp;&nbsp;&nbsp;</span></th>\n",
    "    <th class=\"tg-jxgv\"><span style=\"background-color:white\">&nbsp;&nbsp;&nbsp;</span><br><span style=\"color:black\">Highest Accuracy&nbsp;&nbsp;&nbsp;Validation</span><span style=\"background-color:white\">&nbsp;&nbsp;&nbsp;</span></th>\n",
    "    <th class=\"tg-jxgv\"><span style=\"background-color:white\">&nbsp;&nbsp;&nbsp;</span><br><span style=\"color:black\">Epoch number</span><span style=\"background-color:white\">&nbsp;&nbsp;&nbsp;</span></th>\n",
    "    <th class=\"tg-jxgv\"><span style=\"background-color:white\">&nbsp;&nbsp;&nbsp;</span><br><span style=\"color:black\">Batch size</span><span style=\"background-color:white\">&nbsp;&nbsp;&nbsp;</span></th>\n",
    "    <th class=\"tg-jxgv\"><span style=\"background-color:white\">&nbsp;&nbsp;&nbsp;</span><br><span style=\"color:black\">Findings (comments)</span><span style=\"background-color:white\">&nbsp;&nbsp;&nbsp;</span></th>\n",
    "  </tr>\n",
    "</thead>\n",
    "<tbody>\n",
    "  <tr>\n",
    "    <td class=\"tg-0pky\">7</td>\n",
    "    <td class=\"tg-jxgv\"><span style=\"background-color:white\">&nbsp;&nbsp;&nbsp;</span><br>Change batch size<span style=\"background-color:white\">&nbsp;&nbsp;&nbsp;</span></td>\n",
    "    <td class=\"tg-jxgv\"><span style=\"background-color:white\">&nbsp;&nbsp;&nbsp;</span><br><span style=\"color:black\">16-16-1</span><span style=\"background-color:white\">&nbsp;&nbsp;&nbsp;</span></td>\n",
    "    <td class=\"tg-jxgv\"><span style=\"background-color:white\">&nbsp;&nbsp;&nbsp;</span><br><span style=\"color:black\">0.8918</span><span style=\"background-color:white\">&nbsp;&nbsp;&nbsp;</span></td>\n",
    "    <td class=\"tg-jxgv\"><span style=\"background-color:white\">&nbsp;&nbsp;&nbsp;</span><br><span style=\"color:black\">2/20</span><span style=\"background-color:white\">&nbsp;&nbsp;&nbsp;</span></td>\n",
    "    <td class=\"tg-jxgv\"><span style=\"background-color:white\">&nbsp;&nbsp;&nbsp;</span><br><span style=\"color:black\">256</span><span style=\"background-color:white\">&nbsp;&nbsp;&nbsp;</span></td>\n",
    "    <td class=\"tg-jxgv\"><span style=\"background-color:white\">   </span><br><span style=\"color:black\">New highest validation accuracy so far. </span><br><br><span style=\"color:black\">Overfitting still very prominent. </span><br><br>Optimal epoch could be an outlier here.</td>\n",
    "  </tr>\n",
    "  <tr>\n",
    "    <td class=\"tg-0lax\">8</td>\n",
    "    <td class=\"tg-zqhz\"><span style=\"background-color:#CCC\">&nbsp;&nbsp;&nbsp;</span><br><span style=\"color:black\">Change batch size</span><span style=\"background-color:#CCC\">&nbsp;&nbsp;&nbsp;</span></td>\n",
    "    <td class=\"tg-zqhz\"><span style=\"background-color:#CCC\">&nbsp;&nbsp;&nbsp;</span><br><span style=\"color:black\">16-16-1</span><span style=\"background-color:#CCC\">&nbsp;&nbsp;&nbsp;</span></td>\n",
    "    <td class=\"tg-zqhz\"><span style=\"background-color:#CCC\">&nbsp;&nbsp;&nbsp;</span><br><span style=\"color:black\">0.8884</span><span style=\"background-color:#CCC\">&nbsp;&nbsp;&nbsp;</span></td>\n",
    "    <td class=\"tg-zqhz\"><span style=\"background-color:#CCC\">&nbsp;&nbsp;&nbsp;</span><br><span style=\"color:black\">4/20</span><span style=\"background-color:#CCC\">&nbsp;&nbsp;&nbsp;</span></td>\n",
    "    <td class=\"tg-zqhz\"><span style=\"background-color:#CCC\">&nbsp;&nbsp;&nbsp;</span><br><span style=\"color:black\">1024</span><span style=\"background-color:#CCC\">&nbsp;&nbsp;&nbsp;</span></td>\n",
    "    <td class=\"tg-zqhz\"><span style=\"background-color:#CCC\">   </span><br><span style=\"color:black\">Overfitting still occurs, but less prominent compared</span><br><br><span style=\"color:black\">to 256 or 512 as batch size.</span><br><br><span style=\"color:black\">Higher Validation Accuracy.</span><br><br><br><span style=\"color:black\">For further experiments batch size will be kept 1024. </span><span style=\"background-color:#CCC\">   </span><br></td>\n",
    "  </tr>\n",
    "</tbody>\n",
    "</table>"
   ]
  },
  {
   "cell_type": "markdown",
   "metadata": {
    "id": "AQlK_j8Qd_US"
   },
   "source": [
    "<h3> Results of: Changing Number of Epochs </h3>"
   ]
  },
  {
   "cell_type": "markdown",
   "metadata": {
    "id": "o-c9-NIHhacE"
   },
   "source": [
    "<style type=\"text/css\">\n",
    ".tg  {border-collapse:collapse;border-spacing:0;}\n",
    ".tg td{border-color:black;border-style:solid;border-width:1px;font-family:Arial, sans-serif;font-size:14px;\n",
    "  overflow:hidden;padding:10px 5px;word-break:normal;}\n",
    ".tg th{border-color:black;border-style:solid;border-width:1px;font-family:Arial, sans-serif;font-size:14px;\n",
    "  font-weight:normal;overflow:hidden;padding:10px 5px;word-break:normal;}\n",
    ".tg .tg-jxgv{background-color:#FFF;border-color:inherit;text-align:left;vertical-align:top}\n",
    ".tg .tg-0pky{border-color:inherit;text-align:left;vertical-align:top}\n",
    ".tg .tg-0lax{text-align:left;vertical-align:top}\n",
    ".tg .tg-zqhz{background-color:#CCC;text-align:left;vertical-align:top}\n",
    "</style>\n",
    "<table class=\"tg\">\n",
    "<thead>\n",
    "  <tr>\n",
    "    <th class=\"tg-0pky\">No.</th>\n",
    "    <th class=\"tg-jxgv\"><span style=\"background-color:white\">&nbsp;&nbsp;&nbsp;</span><br>Experiment type<span style=\"background-color:white\">&nbsp;&nbsp;&nbsp;</span></th>\n",
    "    <th class=\"tg-jxgv\"><span style=\"background-color:white\">&nbsp;&nbsp;&nbsp;</span><br><span style=\"color:black\">Network capacity</span><span style=\"background-color:white\">&nbsp;&nbsp;&nbsp;</span></th>\n",
    "    <th class=\"tg-jxgv\"><span style=\"background-color:white\">&nbsp;&nbsp;&nbsp;</span><br><span style=\"color:black\">Highest Accuracy&nbsp;&nbsp;&nbsp;Validation</span><span style=\"background-color:white\">&nbsp;&nbsp;&nbsp;</span></th>\n",
    "    <th class=\"tg-jxgv\"><span style=\"background-color:white\">&nbsp;&nbsp;&nbsp;</span><br><span style=\"color:black\">Epoch number</span><span style=\"background-color:white\">&nbsp;&nbsp;&nbsp;</span></th>\n",
    "    <th class=\"tg-jxgv\"><span style=\"background-color:white\">&nbsp;&nbsp;&nbsp;</span><br><span style=\"color:black\">Batch size</span><span style=\"background-color:white\">&nbsp;&nbsp;&nbsp;</span></th>\n",
    "    <th class=\"tg-jxgv\"><span style=\"background-color:white\">&nbsp;&nbsp;&nbsp;</span><br><span style=\"color:black\">Findings (comments)</span><span style=\"background-color:white\">&nbsp;&nbsp;&nbsp;</span></th>\n",
    "  </tr>\n",
    "</thead>\n",
    "<tbody>\n",
    "  <tr>\n",
    "    <td class=\"tg-0pky\">9</td>\n",
    "    <td class=\"tg-jxgv\"><span style=\"background-color:white\">&nbsp;&nbsp;&nbsp;</span><br>Increase number of epochs to 30<span style=\"background-color:white\">&nbsp;&nbsp;&nbsp;</span></td>\n",
    "    <td class=\"tg-jxgv\"><span style=\"background-color:white\">&nbsp;&nbsp;&nbsp;</span><br><span style=\"color:black\">16-16-1</span><span style=\"background-color:white\">&nbsp;&nbsp;&nbsp;</span></td>\n",
    "    <td class=\"tg-jxgv\"><span style=\"background-color:white\">&nbsp;&nbsp;&nbsp;</span><br><span style=\"color:black\">0.8890</span><span style=\"background-color:white\">&nbsp;&nbsp;&nbsp;</span></td>\n",
    "    <td class=\"tg-jxgv\"><span style=\"background-color:white\">&nbsp;&nbsp;&nbsp;</span><br><span style=\"color:black\">8/30</span><span style=\"background-color:white\">&nbsp;&nbsp;&nbsp;</span></td>\n",
    "    <td class=\"tg-jxgv\"><span style=\"background-color:white\">&nbsp;&nbsp;&nbsp;</span><br><span style=\"color:black\">1024</span><span style=\"background-color:white\">&nbsp;&nbsp;&nbsp;</span></td>\n",
    "    <td class=\"tg-jxgv\"><span style=\"background-color:white\">&nbsp;&nbsp;&nbsp;</span><br><span style=\"color:black\">Around the 8</span>th<span style=\"color:black\">&nbsp;&nbsp;&nbsp;epoch, the validation accuracy is the highest. </span><span style=\"background-color:white\">&nbsp;&nbsp;&nbsp;</span></td>\n",
    "  </tr>\n",
    "  <tr>\n",
    "    <td class=\"tg-0lax\">10</td>\n",
    "    <td class=\"tg-zqhz\"><span style=\"background-color:#CCC\">   </span><br><span style=\"color:black\">Decrease the number of epochs to 10</span><span style=\"background-color:#CCC\">   </span></td>\n",
    "    <td class=\"tg-zqhz\"><span style=\"background-color:#CCC\">&nbsp;&nbsp;&nbsp;</span><br><span style=\"color:black\">16-16-1</span><span style=\"background-color:#CCC\">&nbsp;&nbsp;&nbsp;</span></td>\n",
    "    <td class=\"tg-zqhz\"><span style=\"background-color:#CCC\">&nbsp;&nbsp;&nbsp;</span><br><span style=\"color:black\">0.8895</span><span style=\"background-color:#CCC\">&nbsp;&nbsp;&nbsp;</span></td>\n",
    "    <td class=\"tg-zqhz\"><span style=\"background-color:#CCC\">&nbsp;&nbsp;&nbsp;</span><br><span style=\"color:black\">7/10</span><span style=\"background-color:#CCC\">&nbsp;&nbsp;&nbsp;</span></td>\n",
    "    <td class=\"tg-zqhz\"><span style=\"background-color:#CCC\">&nbsp;&nbsp;&nbsp;</span><br><span style=\"color:black\">1024</span><span style=\"background-color:#CCC\">&nbsp;&nbsp;&nbsp;</span></td>\n",
    "    <td class=\"tg-zqhz\"><span style=\"background-color:#CCC\">   </span><br><span style=\"color:black\">With batch size as 1024, the validation accuracy is high as visible</span><br><br><span style=\"color:black\">It was a good hyperparameter change. </span><br><br><span style=\"color:black\">The number of epochs has little difference   numerically. </span><span style=\"background-color:#CCC\">   </span></td>\n",
    "  </tr>\n",
    "</tbody>\n",
    "</table>"
   ]
  },
  {
   "cell_type": "markdown",
   "metadata": {
    "id": "Sg_Uu3T5iB-_"
   },
   "source": [
    "<h3> Results of: Changing Learning Rate </h3>"
   ]
  },
  {
   "cell_type": "markdown",
   "metadata": {
    "id": "tb227UN6iVj5"
   },
   "source": [
    "<style type=\"text/css\">\n",
    ".tg  {border-collapse:collapse;border-spacing:0;}\n",
    ".tg td{border-color:black;border-style:solid;border-width:1px;font-family:Arial, sans-serif;font-size:14px;\n",
    "  overflow:hidden;padding:10px 5px;word-break:normal;}\n",
    ".tg th{border-color:black;border-style:solid;border-width:1px;font-family:Arial, sans-serif;font-size:14px;\n",
    "  font-weight:normal;overflow:hidden;padding:10px 5px;word-break:normal;}\n",
    ".tg .tg-jxgv{background-color:#FFF;border-color:inherit;text-align:left;vertical-align:top}\n",
    ".tg .tg-0pky{border-color:inherit;text-align:left;vertical-align:top}\n",
    ".tg .tg-0lax{text-align:left;vertical-align:top}\n",
    ".tg .tg-zqhz{background-color:#CCC;text-align:left;vertical-align:top}\n",
    ".tg .tg-7lf8{background-color:#CCC;border-color:inherit;text-align:left;vertical-align:top}\n",
    "</style>\n",
    "<table class=\"tg\">\n",
    "<thead>\n",
    "  <tr>\n",
    "    <th class=\"tg-0pky\">No.</th>\n",
    "    <th class=\"tg-jxgv\"><span style=\"background-color:white\">&nbsp;&nbsp;&nbsp;</span><br>Experiment type<span style=\"background-color:white\">&nbsp;&nbsp;&nbsp;</span></th>\n",
    "    <th class=\"tg-jxgv\"><span style=\"background-color:white\">&nbsp;&nbsp;&nbsp;</span><br><span style=\"color:black\">Network capacity</span><span style=\"background-color:white\">&nbsp;&nbsp;&nbsp;</span></th>\n",
    "    <th class=\"tg-jxgv\"><span style=\"background-color:white\">&nbsp;&nbsp;&nbsp;</span><br><span style=\"color:black\">Highest Accuracy&nbsp;&nbsp;&nbsp;Validation</span><span style=\"background-color:white\">&nbsp;&nbsp;&nbsp;</span></th>\n",
    "    <th class=\"tg-jxgv\"><span style=\"background-color:white\">&nbsp;&nbsp;&nbsp;</span><br><span style=\"color:black\">Epoch number</span><span style=\"background-color:white\">&nbsp;&nbsp;&nbsp;</span></th>\n",
    "    <th class=\"tg-jxgv\"><span style=\"background-color:white\">&nbsp;&nbsp;&nbsp;</span><br><span style=\"color:black\">Batch size</span><span style=\"background-color:white\">&nbsp;&nbsp;&nbsp;</span></th>\n",
    "    <th class=\"tg-jxgv\"><span style=\"background-color:white\">&nbsp;&nbsp;&nbsp;</span><br><span style=\"color:black\">Findings (comments)</span><span style=\"background-color:white\">&nbsp;&nbsp;&nbsp;</span></th>\n",
    "  </tr>\n",
    "</thead>\n",
    "<tbody>\n",
    "  <tr>\n",
    "    <td class=\"tg-0pky\">11</td>\n",
    "    <td class=\"tg-jxgv\"><span style=\"background-color:white\">&nbsp;&nbsp;&nbsp;</span><br>Learning rate tuning<br><span style=\"background-color:white\">&nbsp;&nbsp;&nbsp;</span><br><span style=\"color:black\">Lr = 0.050</span><span style=\"background-color:white\">&nbsp;&nbsp;&nbsp;</span></td>\n",
    "    <td class=\"tg-jxgv\"><span style=\"background-color:white\">&nbsp;&nbsp;&nbsp;</span><br><span style=\"color:black\">32-32-1</span><span style=\"background-color:white\">&nbsp;&nbsp;&nbsp;</span></td>\n",
    "    <td class=\"tg-jxgv\"><span style=\"background-color:white\">&nbsp;&nbsp;&nbsp;</span><br><span style=\"color:black\">0.8848</span><span style=\"background-color:white\">&nbsp;&nbsp;&nbsp;</span></td>\n",
    "    <td class=\"tg-jxgv\"><span style=\"background-color:white\">&nbsp;&nbsp;&nbsp;</span><br><span style=\"color:black\">10/20</span><span style=\"background-color:white\">&nbsp;&nbsp;&nbsp;</span></td>\n",
    "    <td class=\"tg-jxgv\"><span style=\"background-color:white\">&nbsp;&nbsp;&nbsp;</span><br><span style=\"color:black\">1024</span><span style=\"background-color:white\">&nbsp;&nbsp;&nbsp;</span></td>\n",
    "    <td class=\"tg-jxgv\"><span style=\"background-color:white\">   </span><br><span style=\"color:black\">This learning rate does not help the cause of finding a high validation accuracy rate. The next 2</span><br><br><span style=\"color:black\">experiments will look at a higher and lower learning rate</span><span style=\"background-color:white\">   </span></td>\n",
    "  </tr>\n",
    "  <tr>\n",
    "    <td class=\"tg-0lax\">12</td>\n",
    "    <td class=\"tg-zqhz\"><span style=\"background-color:#CCC\">&nbsp;&nbsp;&nbsp;</span><br><span style=\"color:black\">Learning rate&nbsp;&nbsp;&nbsp;tuning</span><br><span style=\"background-color:#CCC\">&nbsp;&nbsp;&nbsp;</span><br><span style=\"color:black\">Lr = 0.200</span><span style=\"background-color:#CCC\">&nbsp;&nbsp;&nbsp;</span></td>\n",
    "    <td class=\"tg-zqhz\"><span style=\"background-color:#CCC\">&nbsp;&nbsp;&nbsp;</span><br><span style=\"color:black\">32-32-1</span><span style=\"background-color:#CCC\">&nbsp;&nbsp;&nbsp;</span></td>\n",
    "    <td class=\"tg-zqhz\"><span style=\"background-color:#CCC\">&nbsp;&nbsp;&nbsp;</span><br><span style=\"color:black\">0.7979</span><span style=\"background-color:#CCC\">&nbsp;&nbsp;&nbsp;</span></td>\n",
    "    <td class=\"tg-zqhz\"><span style=\"background-color:#CCC\">&nbsp;&nbsp;&nbsp;</span><br><span style=\"color:black\">5/20</span><span style=\"background-color:#CCC\">&nbsp;&nbsp;&nbsp;</span></td>\n",
    "    <td class=\"tg-zqhz\"><span style=\"background-color:#CCC\">&nbsp;&nbsp;&nbsp;</span><br><span style=\"color:black\">1024</span><span style=\"background-color:#CCC\">&nbsp;&nbsp;&nbsp;</span></td>\n",
    "    <td class=\"tg-zqhz\"><br><span style=\"color:black\">This experiment reinforces the idea that 5th is the optimum epoch. However, sample under </span><br><br><span style=\"color:black\">performs massively with high learning rates.</span></td>\n",
    "  </tr>\n",
    "  <tr>\n",
    "    <td class=\"tg-0pky\">13</td>\n",
    "    <td class=\"tg-7lf8\">&nbsp;&nbsp;&nbsp;<br>Learning rate tuning<br>&nbsp;&nbsp;&nbsp;<br>Lr = 0.002&nbsp;&nbsp;&nbsp;</td>\n",
    "    <td class=\"tg-7lf8\">&nbsp;&nbsp;&nbsp;<br>32-32-1&nbsp;&nbsp;&nbsp;</td>\n",
    "    <td class=\"tg-7lf8\">&nbsp;&nbsp;&nbsp;<br>0.8872&nbsp;&nbsp;&nbsp;</td>\n",
    "    <td class=\"tg-7lf8\">&nbsp;&nbsp;&nbsp;<br>5/20&nbsp;&nbsp;&nbsp;</td>\n",
    "    <td class=\"tg-7lf8\">&nbsp;&nbsp;&nbsp;<br>1024&nbsp;&nbsp;&nbsp;</td>\n",
    "    <td class=\"tg-7lf8\">   <br>Validation accuracy generally higher when the learning rate is set to low values. <br><br>The next experiments will have learning rate set at 0.001 thanks to these findings.   </td>\n",
    "  </tr>\n",
    "</tbody>\n",
    "</table>"
   ]
  },
  {
   "cell_type": "markdown",
   "metadata": {
    "id": "-586XxCHkV0P"
   },
   "source": [
    "<h3> Results of: Regularisation Experiments </h3>"
   ]
  },
  {
   "cell_type": "markdown",
   "metadata": {
    "id": "f3Xo1ZUAkh5o"
   },
   "source": [
    "<style type=\"text/css\">\n",
    ".tg  {border-collapse:collapse;border-spacing:0;}\n",
    ".tg td{border-color:black;border-style:solid;border-width:1px;font-family:Arial, sans-serif;font-size:14px;\n",
    "  overflow:hidden;padding:10px 5px;word-break:normal;}\n",
    ".tg th{border-color:black;border-style:solid;border-width:1px;font-family:Arial, sans-serif;font-size:14px;\n",
    "  font-weight:normal;overflow:hidden;padding:10px 5px;word-break:normal;}\n",
    ".tg .tg-jxgv{background-color:#FFF;border-color:inherit;text-align:left;vertical-align:top}\n",
    ".tg .tg-0pky{border-color:inherit;text-align:left;vertical-align:top}\n",
    ".tg .tg-0lax{text-align:left;vertical-align:top}\n",
    ".tg .tg-zqhz{background-color:#CCC;text-align:left;vertical-align:top}\n",
    ".tg .tg-7lf8{background-color:#CCC;border-color:inherit;text-align:left;vertical-align:top}\n",
    "</style>\n",
    "<table class=\"tg\">\n",
    "<thead>\n",
    "  <tr>\n",
    "    <th class=\"tg-0pky\">No.</th>\n",
    "    <th class=\"tg-jxgv\"><span style=\"background-color:white\">&nbsp;&nbsp;&nbsp;</span><br>Experiment type<span style=\"background-color:white\">&nbsp;&nbsp;&nbsp;</span></th>\n",
    "    <th class=\"tg-jxgv\"><span style=\"background-color:white\">&nbsp;&nbsp;&nbsp;</span><br><span style=\"color:black\">Network capacity</span><span style=\"background-color:white\">&nbsp;&nbsp;&nbsp;</span></th>\n",
    "    <th class=\"tg-jxgv\"><span style=\"background-color:white\">&nbsp;&nbsp;&nbsp;</span><br><span style=\"color:black\">Highest Accuracy&nbsp;&nbsp;&nbsp;Validation</span><span style=\"background-color:white\">&nbsp;&nbsp;&nbsp;</span></th>\n",
    "    <th class=\"tg-jxgv\"><span style=\"background-color:white\">&nbsp;&nbsp;&nbsp;</span><br><span style=\"color:black\">Epoch number</span><span style=\"background-color:white\">&nbsp;&nbsp;&nbsp;</span></th>\n",
    "    <th class=\"tg-jxgv\"><span style=\"background-color:white\">&nbsp;&nbsp;&nbsp;</span><br><span style=\"color:black\">Batch size</span><span style=\"background-color:white\">&nbsp;&nbsp;&nbsp;</span></th>\n",
    "    <th class=\"tg-jxgv\"><span style=\"background-color:white\">&nbsp;&nbsp;&nbsp;</span><br><span style=\"color:black\">Findings (comments)</span><span style=\"background-color:white\">&nbsp;&nbsp;&nbsp;</span></th>\n",
    "  </tr>\n",
    "</thead>\n",
    "<tbody>\n",
    "  <tr>\n",
    "    <td class=\"tg-0pky\">12</td>\n",
    "    <td class=\"tg-jxgv\"><span style=\"background-color:white\">&nbsp;&nbsp;&nbsp;</span><br>Train best model so far with best hyperparameter tunings<span style=\"background-color:white\">&nbsp;&nbsp;&nbsp;</span></td>\n",
    "    <td class=\"tg-jxgv\"><span style=\"background-color:white\">&nbsp;&nbsp;&nbsp;</span><br><span style=\"color:black\">32-32-1</span><span style=\"background-color:white\">&nbsp;&nbsp;&nbsp;</span></td>\n",
    "    <td class=\"tg-jxgv\"><span style=\"background-color:white\">&nbsp;&nbsp;&nbsp;</span><br><span style=\"color:black\">0.8932</span><span style=\"background-color:white\">&nbsp;&nbsp;&nbsp;</span></td>\n",
    "    <td class=\"tg-jxgv\"><span style=\"background-color:white\">&nbsp;&nbsp;&nbsp;</span><br><span style=\"color:black\">5/20</span><span style=\"background-color:white\">&nbsp;&nbsp;&nbsp;</span></td>\n",
    "    <td class=\"tg-jxgv\"><span style=\"background-color:white\">&nbsp;&nbsp;&nbsp;</span><br><span style=\"color:black\">1024</span><span style=\"background-color:white\">&nbsp;&nbsp;&nbsp;</span></td>\n",
    "    <td class=\"tg-jxgv\"><span style=\"background-color:white\">   </span><br><span style=\"color:black\">Optimal hyperparameters from experiments: 1024 as batch size, network capacity</span><br><br><span style=\"color:black\">32-32-1, learning rate: 0.001 and 20 number of epochs. </span><br><br><span style=\"color:black\">This produced the highest validation accuracy compared to all experiments so far.</span></td>\n",
    "  </tr>\n",
    "  <tr>\n",
    "    <td class=\"tg-0lax\">13</td>\n",
    "    <td class=\"tg-zqhz\"><span style=\"background-color:#CCC\">   </span><br><span style=\"color:black\">Regularisation: decrease network size </span><span style=\"background-color:#CCC\">   </span></td>\n",
    "    <td class=\"tg-zqhz\"><span style=\"background-color:#CCC\">&nbsp;&nbsp;&nbsp;</span><br><span style=\"color:black\">16-16-1</span><span style=\"background-color:#CCC\">&nbsp;&nbsp;&nbsp;</span></td>\n",
    "    <td class=\"tg-zqhz\"><span style=\"background-color:#CCC\">&nbsp;&nbsp;&nbsp;</span><br><span style=\"color:black\">0.8830 </span><br><span style=\"background-color:#CCC\">&nbsp;&nbsp;&nbsp;</span><br> <span style=\"background-color:#CCC\">&nbsp;&nbsp;&nbsp;</span></td>\n",
    "    <td class=\"tg-zqhz\"><span style=\"background-color:#CCC\">&nbsp;&nbsp;&nbsp;</span><br><span style=\"color:black\">6/20</span><span style=\"background-color:#CCC\">&nbsp;&nbsp;&nbsp;</span></td>\n",
    "    <td class=\"tg-zqhz\"><span style=\"background-color:#CCC\">&nbsp;&nbsp;&nbsp;</span><br><span style=\"color:black\">1024</span><span style=\"background-color:#CCC\">&nbsp;&nbsp;&nbsp;</span></td>\n",
    "    <td class=\"tg-zqhz\"><span style=\"background-color:#CCC\">   </span><br><span style=\"color:black\">The validation accuracy has decreased slightly, which is a negative aspect. </span><br><br><span style=\"color:black\">However, overfitting has been decreased as plots show in the previous section. </span><span style=\"background-color:#CCC\">   </span></td>\n",
    "  </tr>\n",
    "  <tr>\n",
    "    <td class=\"tg-0lax\">14</td>\n",
    "    <td class=\"tg-zqhz\">&nbsp;&nbsp;&nbsp;<br>Regularisation: add l2 regulators at 0.001&nbsp;&nbsp;&nbsp;</td>\n",
    "    <td class=\"tg-zqhz\">&nbsp;&nbsp;&nbsp;<br>16-16-1&nbsp;&nbsp;&nbsp;</td>\n",
    "    <td class=\"tg-zqhz\">&nbsp;&nbsp;&nbsp;<br>0.8886&nbsp;&nbsp;&nbsp;</td>\n",
    "    <td class=\"tg-zqhz\">&nbsp;&nbsp;&nbsp;<br>9/20&nbsp;&nbsp;&nbsp;</td>\n",
    "    <td class=\"tg-zqhz\">&nbsp;&nbsp;&nbsp;<br>1024&nbsp;&nbsp;&nbsp;</td>\n",
    "    <td class=\"tg-zqhz\">   <br>Overfitting now is significantly decreasing thanks to the L2 regularisation. <br><br>The maximum validation accuracy averages around 0.88   </td>\n",
    "  </tr>\n",
    "  <tr>\n",
    "    <td class=\"tg-0pky\">15</td>\n",
    "    <td class=\"tg-7lf8\"><span style=\"background-color:#CCC\">   </span><br><span style=\"color:black\">Add dropout layer at 50% (0.5)</span><span style=\"background-color:#CCC\">   </span></td>\n",
    "    <td class=\"tg-7lf8\"><span style=\"background-color:#CCC\">&nbsp;&nbsp;&nbsp;</span><br><span style=\"color:black\">16-16-1</span><span style=\"background-color:#CCC\">&nbsp;&nbsp;&nbsp;</span></td>\n",
    "    <td class=\"tg-7lf8\"><span style=\"background-color:#CCC\">&nbsp;&nbsp;&nbsp;</span><br><span style=\"color:black\">0.8893</span><span style=\"background-color:#CCC\">&nbsp;&nbsp;&nbsp;</span></td>\n",
    "    <td class=\"tg-7lf8\"><span style=\"background-color:#CCC\">&nbsp;&nbsp;&nbsp;</span><br><span style=\"color:black\">9/20</span><span style=\"background-color:#CCC\">&nbsp;&nbsp;&nbsp;</span></td>\n",
    "    <td class=\"tg-7lf8\"><span style=\"background-color:#CCC\">&nbsp;&nbsp;&nbsp;</span><br><span style=\"color:black\">1024</span><span style=\"background-color:#CCC\">&nbsp;&nbsp;&nbsp;</span></td>\n",
    "    <td class=\"tg-7lf8\"><span style=\"background-color:#CCC\">   </span><br>Very small overfitting has been achieved.</td>\n",
    "  </tr>\n",
    "</tbody>\n",
    "</table>"
   ]
  },
  {
   "cell_type": "markdown",
   "metadata": {
    "id": "fvJDPz9Ykwaf"
   },
   "source": [
    "<h3> Results of: Scaling Up Experiments </h3>"
   ]
  },
  {
   "cell_type": "markdown",
   "metadata": {
    "id": "uvL-s9ssk1L5"
   },
   "source": [
    "<style type=\"text/css\">\n",
    ".tg  {border-collapse:collapse;border-spacing:0;}\n",
    ".tg td{border-color:black;border-style:solid;border-width:1px;font-family:Arial, sans-serif;font-size:14px;\n",
    "  overflow:hidden;padding:10px 5px;word-break:normal;}\n",
    ".tg th{border-color:black;border-style:solid;border-width:1px;font-family:Arial, sans-serif;font-size:14px;\n",
    "  font-weight:normal;overflow:hidden;padding:10px 5px;word-break:normal;}\n",
    ".tg .tg-jxgv{background-color:#FFF;border-color:inherit;text-align:left;vertical-align:top}\n",
    ".tg .tg-0pky{border-color:inherit;text-align:left;vertical-align:top}\n",
    ".tg .tg-0lax{text-align:left;vertical-align:top}\n",
    ".tg .tg-zqhz{background-color:#CCC;text-align:left;vertical-align:top}\n",
    "</style>\n",
    "<table class=\"tg\">\n",
    "<thead>\n",
    "  <tr>\n",
    "    <th class=\"tg-0pky\">No.</th>\n",
    "    <th class=\"tg-jxgv\"><span style=\"background-color:white\">&nbsp;&nbsp;&nbsp;</span><br>Experiment type<span style=\"background-color:white\">&nbsp;&nbsp;&nbsp;</span></th>\n",
    "    <th class=\"tg-jxgv\"><span style=\"background-color:white\">&nbsp;&nbsp;&nbsp;</span><br><span style=\"color:black\">Network capacity</span><span style=\"background-color:white\">&nbsp;&nbsp;&nbsp;</span></th>\n",
    "    <th class=\"tg-jxgv\"><span style=\"background-color:white\">&nbsp;&nbsp;&nbsp;</span><br><span style=\"color:black\">Highest Accuracy&nbsp;&nbsp;&nbsp;Validation</span><span style=\"background-color:white\">&nbsp;&nbsp;&nbsp;</span></th>\n",
    "    <th class=\"tg-jxgv\"><span style=\"background-color:white\">&nbsp;&nbsp;&nbsp;</span><br><span style=\"color:black\">Epoch number</span><span style=\"background-color:white\">&nbsp;&nbsp;&nbsp;</span></th>\n",
    "    <th class=\"tg-jxgv\"><span style=\"background-color:white\">&nbsp;&nbsp;&nbsp;</span><br><span style=\"color:black\">Batch size</span><span style=\"background-color:white\">&nbsp;&nbsp;&nbsp;</span></th>\n",
    "    <th class=\"tg-jxgv\"><span style=\"background-color:white\">&nbsp;&nbsp;&nbsp;</span><br><span style=\"color:black\">Findings (comments)</span><span style=\"background-color:white\">&nbsp;&nbsp;&nbsp;</span></th>\n",
    "  </tr>\n",
    "</thead>\n",
    "<tbody>\n",
    "  <tr>\n",
    "    <td class=\"tg-0pky\">16</td>\n",
    "    <td class=\"tg-jxgv\"><span style=\"background-color:white\">&nbsp;&nbsp;&nbsp;</span><br>Create a 512-512-1 network (Scale up) <span style=\"background-color:white\">&nbsp;&nbsp;&nbsp;</span></td>\n",
    "    <td class=\"tg-jxgv\"><span style=\"background-color:white\">&nbsp;&nbsp;&nbsp;</span><br><span style=\"color:black\">512-512-1</span><span style=\"background-color:white\">&nbsp;&nbsp;&nbsp;</span></td>\n",
    "    <td class=\"tg-jxgv\"><span style=\"background-color:white\">&nbsp;&nbsp;&nbsp;</span><br><span style=\"color:black\">0.8922</span><span style=\"background-color:white\">&nbsp;&nbsp;&nbsp;</span></td>\n",
    "    <td class=\"tg-jxgv\"><span style=\"background-color:white\">&nbsp;&nbsp;&nbsp;</span><br><span style=\"color:black\">6/20</span><span style=\"background-color:white\">&nbsp;&nbsp;&nbsp;</span></td>\n",
    "    <td class=\"tg-jxgv\"><span style=\"background-color:white\">&nbsp;&nbsp;&nbsp;</span><br><span style=\"color:black\">1024</span><span style=\"background-color:white\">&nbsp;&nbsp;&nbsp;</span></td>\n",
    "    <td class=\"tg-jxgv\"><span style=\"background-color:white\">   </span><br><span style=\"color:black\">Overfitting signs,  this network was not equipped with </span><br><br><span style=\"color:black\">any L2 regularisation or dropout layer.   </span><br><br><span style=\"color:black\">This will be added in the next experiment.</span><span style=\"background-color:white\">   </span></td>\n",
    "  </tr>\n",
    "  <tr>\n",
    "    <td class=\"tg-0lax\">17</td>\n",
    "    <td class=\"tg-zqhz\"><span style=\"background-color:#CCC\">   </span><br><span style=\"color:black\">512-512-1 network with L2 regularisation and dropout layer</span><span style=\"background-color:#CCC\">   </span></td>\n",
    "    <td class=\"tg-zqhz\"><span style=\"background-color:#CCC\">&nbsp;&nbsp;&nbsp;</span><br><span style=\"color:black\">512-512-1</span><span style=\"background-color:#CCC\">&nbsp;&nbsp;&nbsp;</span></td>\n",
    "    <td class=\"tg-zqhz\"><span style=\"background-color:#CCC\">&nbsp;&nbsp;&nbsp;</span><br><span style=\"color:black\">0.8902</span><span style=\"background-color:#CCC\">&nbsp;&nbsp;&nbsp;</span></td>\n",
    "    <td class=\"tg-zqhz\"><span style=\"background-color:#CCC\">&nbsp;&nbsp;&nbsp;</span><br><span style=\"color:black\">6/20</span><span style=\"background-color:#CCC\">&nbsp;&nbsp;&nbsp;</span></td>\n",
    "    <td class=\"tg-zqhz\"><span style=\"background-color:#CCC\">&nbsp;&nbsp;&nbsp;</span><br><span style=\"color:black\">1024</span><span style=\"background-color:#CCC\">&nbsp;&nbsp;&nbsp;</span></td>\n",
    "    <td class=\"tg-zqhz\"><span style=\"background-color:#CCC\">   </span><br><span style=\"color:black\">Overfitting substantially reduced thanks to L2 regularisation and </span><br><br><span style=\"color:black\">drop out layer between the two 512 Relu layers. </span><span style=\"background-color:#CCC\">   </span></td>\n",
    "  </tr>\n",
    "</tbody>\n",
    "</table>\n"
   ]
  },
  {
   "cell_type": "markdown",
   "metadata": {
    "id": "OKNwALLsh_l4"
   },
   "source": [
    "# Conclusions"
   ]
  },
  {
   "cell_type": "markdown",
   "metadata": {
    "id": "q9A2HHHunuq2"
   },
   "source": [
    "<h2> Conclusion and Evaluation of experiments with relation to Deep Learning Theory </h2>"
   ]
  },
  {
   "cell_type": "markdown",
   "metadata": {
    "id": "Iv04bY3ANttA"
   },
   "source": [
    "RMSprop is the optimization algorithm used in the context for all the experimentations. This algorithm relies on the principles of **Stochastic Gradient Descent**. The learning rate is the adjustable hyperparameter that determines the rate of finding the ideal **global minimum** which represents the lowest loss in the space of solutions. Experiments 11,12 and 13 show numerical proof that most ideal learning rate are very small positive integers, the ideal learning rate for most experiments has been kept as 0.001. Using a high learning rate makes the process of finding the global minimum very frenetic as Experiment No. 12 shows, whereas using a low learning rate (along with momentum provided by RMSprop) makes this process more viable and successful. \n",
    "\n",
    "For the 2-2-1 capacity network, **underfitting** has taken place. Undefitting is a phenomena in Deep Learning that can occur when the network cannot understand the trend of the incoming sample data, resulting in high bias. The IMDB problem has quite a lot of data available for training, the network capacity here was simply very small for the *neurons* present in the layers to produce good representations of the data. As Experiments 1-6 show, increasing the Network Size has also resulted in increasing validation accuracy.\n",
    "\n",
    "Occam's principle states that the simpler the model, the better it is for Deep Learning purposes. L2 regularisation has been added as part of curing overfitting. L2 regularisation attributes a weight parameter to the loss function - in Experiment 14 the weight multiplying has value 0.001. A self-evaluation and critique is not having logged experiments with different L2 weights, I did conduct experiments with other weights off-book, but did not log them in the experiments, ultimately I have found out that small positive integers, just like the learning rate, are the best weights to apply, therefore 0.001 has been kept."
   ]
  },
  {
   "cell_type": "markdown",
   "metadata": {
    "id": "PA8AHtuzZqPh"
   },
   "source": [
    "<h2> Final Conclusion </h2>"
   ]
  },
  {
   "cell_type": "markdown",
   "metadata": {
    "id": "zMp7zG2WiDDs"
   },
   "source": [
    "In the \"Discussion\" section, it has been mentioned that regularisation does not have much effect on simple problems such as the IMDB dataset, but perhaps it has more influence on the accuracy gain on a problem like ImageNet, this conclusion has been confirmed again even with a scaled up IMBD network. Generally, if a network achieves a high accuracy with a small capacity like a 16-16-1 - in the case of this report, this would be a sign that the problem in question and the dataset is not very complex.\n",
    "\n",
    "The loss obtained on the smaller capacity network (16-16-1) was also better than the loss obtained in the 512-512-1 network. The accuracy obtained on the 16-16-1 was also slightly higher, not by significant amount, but still a bit higher (0.888 so around 88%)\n",
    "\n",
    "The main conclusion to derive from the experimentations conducted show that accuracy decreases by a small amount when overfitting is reduced by regularisation. Some models had a validation accuracy on the 0.89's - which was relatively high, but the overfitting on those models was very large, it has been noted that when those models in questions were regularised, the accuracy dropped to the 0.88 value ranges. \n",
    "\n",
    "Due to the reduced complexity of this dataset and problem, reducing overfitting did not result in any gain in accuracy. As a self evaluation, for future experimentations, I would like to experiment with other dataset to obtain a gain from regularisation processes to obtain a model with a higher statistical power. \n",
    "\n",
    "During the course of the experimentations conducted, there has been also a consideration towards **information bottleneck**, there were not any networks enabling this issue to take place (There was no network able to cause this, this experiment did not use capacities such as 64-4-46). The validation **(hold-out validation)** kept throughout proved to be effective, as there were no significant statistical fluctuation in the results. \n",
    "\n",
    "\n",
    "Obtaining a 0.88 accuracy on the Test Data is good according to the DLWP book, the resources that have been used to put together parts of TensorFlow present in our course material (Notebook No. 3.407-validating-training) also showed that the upper limit - at least using the techniques we are aware of - was still around 0.88. Therefore, the results obtained in this experimentation can be considered as **reliable** and **reproducible** by other Deep Learning engineers. \n"
   ]
  }
 ],
 "metadata": {
  "colab": {
   "collapsed_sections": [],
   "name": "FinalAshikReponCW1.ipynb",
   "provenance": [],
   "toc_visible": true
  },
  "kernelspec": {
   "display_name": "Python 3",
   "language": "python",
   "name": "python3"
  },
  "language_info": {
   "codemirror_mode": {
    "name": "ipython",
    "version": 3
   },
   "file_extension": ".py",
   "mimetype": "text/x-python",
   "name": "python",
   "nbconvert_exporter": "python",
   "pygments_lexer": "ipython3",
   "version": "3.8.3"
  }
 },
 "nbformat": 4,
 "nbformat_minor": 1
}
